{
 "cells": [
  {
   "cell_type": "markdown",
   "metadata": {},
   "source": [
    "![A Tanzanian Water Well](https://miro.medium.com/max/1174/1*haY1-_3kNC06u6eri83jZw.png)"
   ]
  },
  {
   "cell_type": "markdown",
   "metadata": {},
   "source": [
    "# Tanzanian Water Well Analysis\n",
    "\n",
    "**Authors:** Juan Acosta, Drew Holcombe, and Raul Torres\n",
    "***"
   ]
  },
  {
   "cell_type": "markdown",
   "metadata": {},
   "source": [
    "# Overview\n",
    "\n",
    "Tanzania is one of many countries facing water shortages in the face of climate change. In our dataset, provided by Taarifa and the Tanzanian Ministry of Water via DrivenData's competition \"Pump it Up: Data Mining the Water Table,\" nearly half of the wells we studied are non-functional or in need of repair, which leaves countless people and families without reliable water access. We achieved an 85% accurate model which predicts which wells are functional, non-functional, and in need of repair. The most important features included Water Quantity, Extraction Type, and Payment Type: by accessing waterpoints with ample available water, well-documented and established extraction types, and requiring payment from users, we believe the Tanzania Water Fund can construct new wells with the best chance of lasting success."
   ]
  },
  {
   "cell_type": "markdown",
   "metadata": {},
   "source": [
    "# Business Problem\n",
    "\n",
    "As with any nonprofit, the Tanzania Water Fund has finite resources to fulfill their objective of bring clean water to the people of Tanzania; when attempting to provide reliable water access, it is imperitive that new wells stay functional. As identifying the functionality of currently existing wells is rather apparent, we aimed to look to the future and optimize future construction: what factors would result in high-functioning wells? This would allow the organization's resources to be efficiently allocated and establish the most reliable water access possible."
   ]
  },
  {
   "cell_type": "markdown",
   "metadata": {},
   "source": [
    "# Data Understanding\n",
    "\n",
    "Our data is sourced from Taarifa and the Tanzanian Ministry of Water, and was accessed through DrivenData's competition \"Pump it Up: Data Mining the Water Table.\" This data came from two dataframes: One, henceforth \"train_labels,\" is a table where each of the 59400 rows represents a well, and is comprised of two columns: each well's ID, and its functionality (our target variable). The second, henceforth \"train_values,\" contains the same wells, also with a unique ID. This table includes 39 contributing variables. We combined these tables in order to view the varaibles together, then analyzed their contents to determine what contributing variables were usable for modelling purposes. Ultimately, due to a large number of missing values and insufficient data descriptions, we found only 9 contributing variables with data that we could use for our model."
   ]
  },
  {
   "cell_type": "code",
   "execution_count": 1,
   "metadata": {},
   "outputs": [],
   "source": [
    "# Import necessary packages\n",
    "import pandas as pd\n",
    "import numpy as np\n",
    "from matplotlib import pyplot as plt\n",
    "import seaborn as sns\n",
    "\n",
    "from sklearn.model_selection import train_test_split, GridSearchCV, cross_val_score, cross_validate, RandomizedSearchCV\n",
    "from sklearn.pipeline import Pipeline\n",
    "from sklearn.preprocessing import StandardScaler, OneHotEncoder, FunctionTransformer, LabelEncoder\n",
    "from sklearn.impute import SimpleImputer\n",
    "from sklearn.compose import ColumnTransformer\n",
    "from sklearn.linear_model import LogisticRegression\n",
    "from sklearn.ensemble import RandomForestClassifier, GradientBoostingClassifier\n",
    "from sklearn.metrics import plot_confusion_matrix, recall_score,\\\n",
    "    accuracy_score, precision_score, f1_score, roc_curve, auc, plot_roc_curve, classification_report, confusion_matrix\n",
    "\n",
    "from sklearn.tree import DecisionTreeClassifier, plot_tree\n",
    "from sklearn.dummy import DummyClassifier\n",
    "\n",
    "from imblearn.over_sampling import SMOTE\n",
    "from imblearn.pipeline import Pipeline as ImPipeline"
   ]
  },
  {
   "cell_type": "code",
   "execution_count": 2,
   "metadata": {
    "scrolled": true
   },
   "outputs": [
    {
     "name": "stdout",
     "output_type": "stream",
     "text": [
      "training_set_labels.csv\n",
      "training_set_values.csv\n"
     ]
    }
   ],
   "source": [
    "! ls \".\\data\""
   ]
  },
  {
   "cell_type": "markdown",
   "metadata": {},
   "source": [
    "Our data is split between two files - labels and values. The source also included a \"test set\"; however, this set did not contain the wells' functionality, our target variable. As such, we'll treat the \"training data\" as our full dataset."
   ]
  },
  {
   "cell_type": "code",
   "execution_count": 3,
   "metadata": {},
   "outputs": [],
   "source": [
    "train_values = pd.read_csv(\"./data/training_set_values.csv\")\n",
    "train_labels = pd.read_csv(\"./data/training_set_labels.csv\")"
   ]
  },
  {
   "cell_type": "code",
   "execution_count": 4,
   "metadata": {},
   "outputs": [
    {
     "name": "stdout",
     "output_type": "stream",
     "text": [
      "<class 'pandas.core.frame.DataFrame'>\n",
      "RangeIndex: 59400 entries, 0 to 59399\n",
      "Data columns (total 40 columns):\n",
      " #   Column                 Non-Null Count  Dtype  \n",
      "---  ------                 --------------  -----  \n",
      " 0   id                     59400 non-null  int64  \n",
      " 1   amount_tsh             59400 non-null  float64\n",
      " 2   date_recorded          59400 non-null  object \n",
      " 3   funder                 55765 non-null  object \n",
      " 4   gps_height             59400 non-null  int64  \n",
      " 5   installer              55745 non-null  object \n",
      " 6   longitude              59400 non-null  float64\n",
      " 7   latitude               59400 non-null  float64\n",
      " 8   wpt_name               59400 non-null  object \n",
      " 9   num_private            59400 non-null  int64  \n",
      " 10  basin                  59400 non-null  object \n",
      " 11  subvillage             59029 non-null  object \n",
      " 12  region                 59400 non-null  object \n",
      " 13  region_code            59400 non-null  int64  \n",
      " 14  district_code          59400 non-null  int64  \n",
      " 15  lga                    59400 non-null  object \n",
      " 16  ward                   59400 non-null  object \n",
      " 17  population             59400 non-null  int64  \n",
      " 18  public_meeting         56066 non-null  object \n",
      " 19  recorded_by            59400 non-null  object \n",
      " 20  scheme_management      55523 non-null  object \n",
      " 21  scheme_name            31234 non-null  object \n",
      " 22  permit                 56344 non-null  object \n",
      " 23  construction_year      59400 non-null  int64  \n",
      " 24  extraction_type        59400 non-null  object \n",
      " 25  extraction_type_group  59400 non-null  object \n",
      " 26  extraction_type_class  59400 non-null  object \n",
      " 27  management             59400 non-null  object \n",
      " 28  management_group       59400 non-null  object \n",
      " 29  payment                59400 non-null  object \n",
      " 30  payment_type           59400 non-null  object \n",
      " 31  water_quality          59400 non-null  object \n",
      " 32  quality_group          59400 non-null  object \n",
      " 33  quantity               59400 non-null  object \n",
      " 34  quantity_group         59400 non-null  object \n",
      " 35  source                 59400 non-null  object \n",
      " 36  source_type            59400 non-null  object \n",
      " 37  source_class           59400 non-null  object \n",
      " 38  waterpoint_type        59400 non-null  object \n",
      " 39  waterpoint_type_group  59400 non-null  object \n",
      "dtypes: float64(3), int64(7), object(30)\n",
      "memory usage: 18.1+ MB\n"
     ]
    }
   ],
   "source": [
    "train_values.info()"
   ]
  },
  {
   "cell_type": "code",
   "execution_count": 5,
   "metadata": {
    "scrolled": true
   },
   "outputs": [
    {
     "name": "stdout",
     "output_type": "stream",
     "text": [
      "<class 'pandas.core.frame.DataFrame'>\n",
      "RangeIndex: 59400 entries, 0 to 59399\n",
      "Data columns (total 2 columns):\n",
      " #   Column        Non-Null Count  Dtype \n",
      "---  ------        --------------  ----- \n",
      " 0   id            59400 non-null  int64 \n",
      " 1   status_group  59400 non-null  object\n",
      "dtypes: int64(1), object(1)\n",
      "memory usage: 928.2+ KB\n"
     ]
    }
   ],
   "source": [
    "train_labels.info()"
   ]
  },
  {
   "cell_type": "markdown",
   "metadata": {},
   "source": [
    "The data will be easiest to work with if we merge the two."
   ]
  },
  {
   "cell_type": "code",
   "execution_count": 6,
   "metadata": {},
   "outputs": [],
   "source": [
    "df = train_values.merge(train_labels)"
   ]
  },
  {
   "cell_type": "markdown",
   "metadata": {},
   "source": [
    "The columns are described [here](https://www.drivendata.org/competitions/7/pump-it-up-data-mining-the-water-table/page/25/), but the information provided is far from exhaustive, and many terms are not defined. We'll have to explore what we can work with, and what we're unable to understand and, by extension, present."
   ]
  },
  {
   "cell_type": "markdown",
   "metadata": {},
   "source": [
    "# Data Preparation\n",
    "\n",
    "Nulls are found throughout the dataset, which will have to be handled on a case-by-case basis. We'll also have to deal with variables that are not defined in a way that we can understand."
   ]
  },
  {
   "cell_type": "code",
   "execution_count": 7,
   "metadata": {
    "scrolled": true
   },
   "outputs": [
    {
     "name": "stdout",
     "output_type": "stream",
     "text": [
      "<class 'pandas.core.frame.DataFrame'>\n",
      "Int64Index: 59400 entries, 0 to 59399\n",
      "Data columns (total 41 columns):\n",
      " #   Column                 Non-Null Count  Dtype  \n",
      "---  ------                 --------------  -----  \n",
      " 0   id                     59400 non-null  int64  \n",
      " 1   amount_tsh             59400 non-null  float64\n",
      " 2   date_recorded          59400 non-null  object \n",
      " 3   funder                 55765 non-null  object \n",
      " 4   gps_height             59400 non-null  int64  \n",
      " 5   installer              55745 non-null  object \n",
      " 6   longitude              59400 non-null  float64\n",
      " 7   latitude               59400 non-null  float64\n",
      " 8   wpt_name               59400 non-null  object \n",
      " 9   num_private            59400 non-null  int64  \n",
      " 10  basin                  59400 non-null  object \n",
      " 11  subvillage             59029 non-null  object \n",
      " 12  region                 59400 non-null  object \n",
      " 13  region_code            59400 non-null  int64  \n",
      " 14  district_code          59400 non-null  int64  \n",
      " 15  lga                    59400 non-null  object \n",
      " 16  ward                   59400 non-null  object \n",
      " 17  population             59400 non-null  int64  \n",
      " 18  public_meeting         56066 non-null  object \n",
      " 19  recorded_by            59400 non-null  object \n",
      " 20  scheme_management      55523 non-null  object \n",
      " 21  scheme_name            31234 non-null  object \n",
      " 22  permit                 56344 non-null  object \n",
      " 23  construction_year      59400 non-null  int64  \n",
      " 24  extraction_type        59400 non-null  object \n",
      " 25  extraction_type_group  59400 non-null  object \n",
      " 26  extraction_type_class  59400 non-null  object \n",
      " 27  management             59400 non-null  object \n",
      " 28  management_group       59400 non-null  object \n",
      " 29  payment                59400 non-null  object \n",
      " 30  payment_type           59400 non-null  object \n",
      " 31  water_quality          59400 non-null  object \n",
      " 32  quality_group          59400 non-null  object \n",
      " 33  quantity               59400 non-null  object \n",
      " 34  quantity_group         59400 non-null  object \n",
      " 35  source                 59400 non-null  object \n",
      " 36  source_type            59400 non-null  object \n",
      " 37  source_class           59400 non-null  object \n",
      " 38  waterpoint_type        59400 non-null  object \n",
      " 39  waterpoint_type_group  59400 non-null  object \n",
      " 40  status_group           59400 non-null  object \n",
      "dtypes: float64(3), int64(7), object(31)\n",
      "memory usage: 19.0+ MB\n"
     ]
    }
   ],
   "source": [
    "df.info()"
   ]
  },
  {
   "cell_type": "code",
   "execution_count": 8,
   "metadata": {},
   "outputs": [],
   "source": [
    "# Date recorded is formatted as an object - we'll convert it into a\n",
    "# timestamp so we can work with it more easily.\n",
    "df[\"date_recorded\"] = pd.to_datetime(df[\"date_recorded\"])"
   ]
  },
  {
   "cell_type": "code",
   "execution_count": 9,
   "metadata": {},
   "outputs": [
    {
     "data": {
      "text/plain": [
       "functional                 0.543081\n",
       "non functional             0.384242\n",
       "functional needs repair    0.072677\n",
       "Name: status_group, dtype: float64"
      ]
     },
     "execution_count": 9,
     "metadata": {},
     "output_type": "execute_result"
    }
   ],
   "source": [
    "df[\"status_group\"].value_counts(normalize=True)"
   ]
  },
  {
   "cell_type": "markdown",
   "metadata": {},
   "source": [
    "## Columns Lacking Usable/Useful Information"
   ]
  },
  {
   "cell_type": "code",
   "execution_count": 10,
   "metadata": {},
   "outputs": [],
   "source": [
    "drop_columns = []"
   ]
  },
  {
   "cell_type": "code",
   "execution_count": 11,
   "metadata": {
    "scrolled": true
   },
   "outputs": [
    {
     "data": {
      "text/plain": [
       "2047     1\n",
       "72310    1\n",
       "49805    1\n",
       "51852    1\n",
       "62091    1\n",
       "        ..\n",
       "46396    1\n",
       "36155    1\n",
       "34106    1\n",
       "38200    1\n",
       "0        1\n",
       "Name: id, Length: 59400, dtype: int64"
      ]
     },
     "execution_count": 11,
     "metadata": {},
     "output_type": "execute_result"
    }
   ],
   "source": [
    "df[\"id\"].value_counts()"
   ]
  },
  {
   "cell_type": "markdown",
   "metadata": {},
   "source": [
    "These unique IDs are not helpful, as we already have the index of the df anyway."
   ]
  },
  {
   "cell_type": "code",
   "execution_count": 12,
   "metadata": {},
   "outputs": [],
   "source": [
    "drop_columns.append(\"id\")"
   ]
  },
  {
   "cell_type": "markdown",
   "metadata": {},
   "source": [
    "The date_recorded and recorded_by also wouldn't be contributing factors; we'll drop this as well."
   ]
  },
  {
   "cell_type": "code",
   "execution_count": 13,
   "metadata": {},
   "outputs": [],
   "source": [
    "drop_columns.extend([\"date_recorded\", \"recorded_by\"])"
   ]
  },
  {
   "cell_type": "code",
   "execution_count": 14,
   "metadata": {
    "scrolled": false
   },
   "outputs": [
    {
     "data": {
      "text/plain": [
       "True     51011\n",
       "False     5055\n",
       "Name: public_meeting, dtype: int64"
      ]
     },
     "execution_count": 14,
     "metadata": {},
     "output_type": "execute_result"
    }
   ],
   "source": [
    "df[\"public_meeting\"].value_counts()"
   ]
  },
  {
   "cell_type": "markdown",
   "metadata": {},
   "source": [
    "This column is described only as \"true/false.\" As we cannot report on it, this column will need to be dropped from our analysis."
   ]
  },
  {
   "cell_type": "code",
   "execution_count": 15,
   "metadata": {},
   "outputs": [],
   "source": [
    "drop_columns.append(\"public_meeting\")"
   ]
  },
  {
   "cell_type": "code",
   "execution_count": 16,
   "metadata": {
    "scrolled": false
   },
   "outputs": [
    {
     "data": {
      "text/plain": [
       "0      58643\n",
       "6         81\n",
       "1         73\n",
       "5         46\n",
       "8         46\n",
       "       ...  \n",
       "180        1\n",
       "213        1\n",
       "23         1\n",
       "55         1\n",
       "94         1\n",
       "Name: num_private, Length: 65, dtype: int64"
      ]
     },
     "execution_count": 16,
     "metadata": {},
     "output_type": "execute_result"
    }
   ],
   "source": [
    "df['num_private'].value_counts()"
   ]
  },
  {
   "cell_type": "markdown",
   "metadata": {},
   "source": [
    "This column also has no description from the source, so we'll drop it as well."
   ]
  },
  {
   "cell_type": "code",
   "execution_count": 17,
   "metadata": {},
   "outputs": [],
   "source": [
    "drop_columns.append(\"num_private\")"
   ]
  },
  {
   "cell_type": "code",
   "execution_count": 18,
   "metadata": {
    "scrolled": true
   },
   "outputs": [
    {
     "data": {
      "text/plain": [
       "none                 3563\n",
       "Shuleni              1748\n",
       "Zahanati              830\n",
       "Msikitini             535\n",
       "Kanisani              323\n",
       "                     ... \n",
       "Kwa Mzee Mirrumbe       1\n",
       "Kwa Nyamgomela          1\n",
       "Kwamananasi             1\n",
       "Kwa Amini John          1\n",
       "Dp 6                    1\n",
       "Name: wpt_name, Length: 37400, dtype: int64"
      ]
     },
     "execution_count": 18,
     "metadata": {},
     "output_type": "execute_result"
    }
   ],
   "source": [
    "df[\"wpt_name\"].value_counts()"
   ]
  },
  {
   "cell_type": "markdown",
   "metadata": {},
   "source": [
    "This column indicates specific waterpoints, but with so many unique waterpoints represented in the set (waterpoints with only one well), it won't give our model useful information."
   ]
  },
  {
   "cell_type": "code",
   "execution_count": 19,
   "metadata": {},
   "outputs": [],
   "source": [
    "drop_columns.append(\"wpt_name\")"
   ]
  },
  {
   "cell_type": "code",
   "execution_count": 20,
   "metadata": {},
   "outputs": [
    {
     "data": {
      "text/plain": [
       "3655"
      ]
     },
     "execution_count": 20,
     "metadata": {},
     "output_type": "execute_result"
    }
   ],
   "source": [
    "df[\"installer\"].isna().sum()"
   ]
  },
  {
   "cell_type": "code",
   "execution_count": 21,
   "metadata": {},
   "outputs": [
    {
     "data": {
      "text/plain": [
       "['Roman',\n",
       " 'GRUMETI',\n",
       " 'World vision',\n",
       " 'UNICEF',\n",
       " 'Artisan',\n",
       " 'DWE',\n",
       " 'DWSP',\n",
       " 'Water Aid',\n",
       " 'Private',\n",
       " 'DANIDA',\n",
       " 'Lawatefuka water sup',\n",
       " 'WEDECO',\n",
       " 'Danid',\n",
       " 'TWE',\n",
       " 'ISF',\n",
       " 'Kilolo Star',\n",
       " 'District council',\n",
       " 'Water',\n",
       " 'WU',\n",
       " nan,\n",
       " 'Not known',\n",
       " 'Central government',\n",
       " 'CEFA',\n",
       " 'Commu',\n",
       " 'Accra',\n",
       " 'World Vision',\n",
       " 'LGA',\n",
       " 'MUWSA',\n",
       " 'KKKT _ Konde and DWE',\n",
       " 'Government',\n",
       " 'Olgilai village community',\n",
       " 'KKKT',\n",
       " 'RWE',\n",
       " 'Adra /Community',\n",
       " 'SEMA',\n",
       " 'SHIPO',\n",
       " 'HESAWA',\n",
       " 'ACRA',\n",
       " 'Community',\n",
       " 'IFAD',\n",
       " 'Sengerema Water Department',\n",
       " 'HE',\n",
       " 'ISF and TACARE',\n",
       " 'Kokeni',\n",
       " 'DA',\n",
       " 'Adra',\n",
       " 'ALLYS',\n",
       " 'AICT',\n",
       " 'KIUMA',\n",
       " 'CES',\n",
       " 'District Counci',\n",
       " 'Ruthe',\n",
       " 'Adra/Community',\n",
       " 'Tulawaka Gold Mine',\n",
       " 'KKT C',\n",
       " 'Hesawa',\n",
       " 'Water board',\n",
       " 'LOCAL CONTRACT',\n",
       " 'WFP',\n",
       " 'LIPS',\n",
       " 'TASAF',\n",
       " 'World',\n",
       " '0',\n",
       " 'SW',\n",
       " 'Shipo',\n",
       " 'Fini water',\n",
       " 'Kanisa',\n",
       " 'OXFARM',\n",
       " 'VILLAGE COUNCIL Orpha',\n",
       " 'Villagers',\n",
       " 'Idara ya maji',\n",
       " 'FPCT',\n",
       " 'WVT',\n",
       " 'Ir',\n",
       " 'DANID',\n",
       " 'Angli',\n",
       " 'secondary school',\n",
       " 'Amref',\n",
       " 'JBG',\n",
       " 'DADIS',\n",
       " 'International Aid Services',\n",
       " 'RW',\n",
       " 'Dmdd',\n",
       " 'TCRS',\n",
       " 'RC Church',\n",
       " 'WATER AID',\n",
       " 'JICA',\n",
       " 'Gwasco L',\n",
       " 'AF',\n",
       " 'AMREF',\n",
       " 'wananchi',\n",
       " 'FW',\n",
       " 'Central Government',\n",
       " 'MWE &',\n",
       " 'Gove',\n",
       " 'RC CHURCH',\n",
       " 'TDFT',\n",
       " 'RWE/DWE',\n",
       " 'Central govt',\n",
       " 'World Bank',\n",
       " 'TWESA',\n",
       " 'Norad',\n",
       " 'Hans',\n",
       " 'FinW',\n",
       " 'FIN WATER',\n",
       " 'OXFAM',\n",
       " 'Plan Internationa',\n",
       " 'District Council',\n",
       " 'RWEDWE',\n",
       " 'Fini Water',\n",
       " 'ANGLI',\n",
       " 'CDT',\n",
       " 'North',\n",
       " 'Oikos E .Africa',\n",
       " 'SHAWASA',\n",
       " 'UN',\n",
       " 'NORAD',\n",
       " 'Save the rain',\n",
       " 'John gemuta co',\n",
       " 'TLC',\n",
       " 'RC Churc',\n",
       " 'Plan Int',\n",
       " 'Phase',\n",
       " 'LVIA',\n",
       " 'Rhobi',\n",
       " 'Makonde water population',\n",
       " 'RWE/ Community',\n",
       " 'Is',\n",
       " 'KILI WATER',\n",
       " 'RDDC',\n",
       " 'FINN WATER',\n",
       " 'FINI WATER',\n",
       " 'DHV',\n",
       " 'Kamama',\n",
       " 'DDCA',\n",
       " 'Victoria company',\n",
       " 'RWSSP',\n",
       " 'Ce',\n",
       " 'KYASHA ENTERPR',\n",
       " 'ERETO',\n",
       " 'REDESO',\n",
       " 'Villa',\n",
       " 'Priva',\n",
       " 'KUWAIT',\n",
       " 'Mw',\n",
       " 'Magadini-Makiwaru wa',\n",
       " 'Dr. Matomola',\n",
       " 'Af',\n",
       " 'RCchurch/CEFA',\n",
       " 'Tardo',\n",
       " 'GOVERNMENT',\n",
       " 'Individuals',\n",
       " 'Chamavita',\n",
       " 'GEN',\n",
       " 'Missi',\n",
       " 'Safari Roya',\n",
       " 'DAWASCO',\n",
       " 'Gover',\n",
       " 'Mission',\n",
       " 'DWE/',\n",
       " 'Halmashauri ya wilaya sikonge',\n",
       " 'Ki',\n",
       " 'Rhoda',\n",
       " 'HAPA SINGIDA',\n",
       " 'Consulting Engineer',\n",
       " 'Karugendo',\n",
       " 'Co',\n",
       " 'Marafip',\n",
       " 'COSMOS ENG LTD',\n",
       " 'World banks',\n",
       " 'Tanz',\n",
       " 'Handeni Trunk Main(',\n",
       " 'SIMBA CO',\n",
       " 'Local technician',\n",
       " 'Village',\n",
       " 'Centr',\n",
       " 'CONS',\n",
       " 'DW',\n",
       " 'DCT',\n",
       " 'IRC',\n",
       " 'District water department',\n",
       " 'Sabodo',\n",
       " 'MLADE',\n",
       " 'I.E.C',\n",
       " 'LWI',\n",
       " 'Kiliflora',\n",
       " 'ICS',\n",
       " 'T. N. karugendo',\n",
       " 'DED',\n",
       " 'Kuwait',\n",
       " 'ADP',\n",
       " 'JUIN CO',\n",
       " 'BILILA',\n",
       " 'TPP',\n",
       " 'GOVER',\n",
       " 'CIPRO/Government',\n",
       " 'MWE',\n",
       " 'MTUWASA',\n",
       " 'Unisef',\n",
       " 'REGIONAL WATER ENGINEER ARUSHA',\n",
       " 'IDARA',\n",
       " 'Wizara ya maji',\n",
       " 'Tasaf and Lga',\n",
       " 'JAICA',\n",
       " 'KKKT-Dioces ya Pare',\n",
       " 'Onesm',\n",
       " 'Te',\n",
       " 'MTN',\n",
       " 'HESAWS',\n",
       " 'Islamic',\n",
       " 'Local',\n",
       " 'KTA C',\n",
       " 'RC',\n",
       " 'Killflora /Community',\n",
       " 'Distri',\n",
       " 'Maji block',\n",
       " 'CALTAZ KAHAMA',\n",
       " 'GOVERNME',\n",
       " 'Omar Ally',\n",
       " 'HAM',\n",
       " 'QUWKWIN',\n",
       " 'ADRA',\n",
       " 'DO',\n",
       " 'DH',\n",
       " 'RC Ch',\n",
       " 'SAXON BUILDING CONTRACTOR',\n",
       " 'Bokera W',\n",
       " 'Bulyahunlu Gold Mine',\n",
       " 'MBIUWASA',\n",
       " 'ADRA /Government',\n",
       " 'The Isla',\n",
       " 'Rotary club',\n",
       " 'YELL LTD',\n",
       " 'Care international',\n",
       " 'KIMKUM',\n",
       " 'Tanesco',\n",
       " 'CJEJOW CONSTRUCTION',\n",
       " 'Victoria',\n",
       " 'TLTC',\n",
       " 'Wachina',\n",
       " 'WE',\n",
       " 'HSW',\n",
       " 'Communit',\n",
       " 'Kibaha Town Council',\n",
       " 'Dr. Matobola',\n",
       " 'Go',\n",
       " 'DWR',\n",
       " 'Huches',\n",
       " 'WATERAID',\n",
       " 'Maswi company',\n",
       " 'Kiliwater',\n",
       " 'TA',\n",
       " 'wanan',\n",
       " 'MEM',\n",
       " 'Region water Department',\n",
       " 'Jeica',\n",
       " 'Ndanda missions',\n",
       " 'District Water Department',\n",
       " 'MSF/TACARE',\n",
       " 'Fathe',\n",
       " 'DARDO',\n",
       " 'Wa',\n",
       " 'MSIKIT',\n",
       " 'Regional Water',\n",
       " 'D',\n",
       " 'VILLAGE COUNCIL',\n",
       " 'RDC',\n",
       " 'TLC/John Majala',\n",
       " 'Kilwa company',\n",
       " 'Local  technician',\n",
       " 'TASSAF',\n",
       " 'VWC',\n",
       " 'PIDP',\n",
       " 'TAN PLANT LTD',\n",
       " 'Japan Government',\n",
       " 'Kata',\n",
       " 'GTZ',\n",
       " 'ISF/Government',\n",
       " 'KUWASA',\n",
       " 'Hydrotec',\n",
       " 'Pr',\n",
       " 'Ch',\n",
       " 'Jaica',\n",
       " 'Taboma/Community',\n",
       " 'P',\n",
       " 'Ubung',\n",
       " 'Chur',\n",
       " 'BESADA',\n",
       " 'Action Contre La Faim',\n",
       " 'Wanjoda',\n",
       " 'CBHCC',\n",
       " 'HW/RC',\n",
       " 'Sumbaw',\n",
       " 'CCEC',\n",
       " 'Nice',\n",
       " 'CCT',\n",
       " 'World Vission',\n",
       " 'Inter',\n",
       " 'DMMD',\n",
       " 'WORLD BANK',\n",
       " 'AQUA BLUES ANGELS',\n",
       " 'MACK DONALD CONTRACTOR',\n",
       " 'Water Aid /sema',\n",
       " 'Henure Dema',\n",
       " 'Kirdep',\n",
       " 'ADRA/Government',\n",
       " 'Kilwater',\n",
       " 'Da',\n",
       " 'Villi',\n",
       " 'KOYI',\n",
       " 'AD',\n",
       " 'Arab community',\n",
       " 'District water depar',\n",
       " 'HOLLAND',\n",
       " 'RC church/Central Gover',\n",
       " 'Active MKM',\n",
       " 'GEOTAN',\n",
       " 'LENCH',\n",
       " 'NCAA',\n",
       " 'CHINA HENAN CONSTUCTION',\n",
       " 'Kaembe',\n",
       " 'Ma',\n",
       " 'FinWater',\n",
       " 'Kuamu',\n",
       " 'Adra/ Community',\n",
       " 'Locall technician',\n",
       " 'UKILIG',\n",
       " 'Mbunge',\n",
       " 'The desk and chair foundat',\n",
       " 'DUWAS',\n",
       " 'Diwani',\n",
       " 'Biore',\n",
       " 'Water aid /sema',\n",
       " 'KKKT CHURCH',\n",
       " 'EA',\n",
       " 'Halmashauri ya manispa tabora',\n",
       " 'ML appro',\n",
       " 'SHY BUILDERS',\n",
       " 'Finwater',\n",
       " 'JIKA',\n",
       " 'Orien',\n",
       " 'DMDD',\n",
       " 'DWE}',\n",
       " 'CDTF',\n",
       " 'KAEMP',\n",
       " 'TUWASA',\n",
       " 'MARAFIP',\n",
       " 'MDRDP',\n",
       " 'Jeshi la wokovu',\n",
       " 'kuwait',\n",
       " 'MBOMA',\n",
       " 'Grobal resource alliance',\n",
       " 'Village Council',\n",
       " 'Shamte Said',\n",
       " 'AUWASA',\n",
       " 'WSDP',\n",
       " 'COUN',\n",
       " 'KIDP',\n",
       " 'Mombo urban water s',\n",
       " 'TRIDEP',\n",
       " 'Wananchi',\n",
       " 'Martha Emanuel',\n",
       " 'St',\n",
       " 'GIDA contractor',\n",
       " 'WD and ID',\n",
       " 'Padep',\n",
       " 'Po',\n",
       " 'Village Counil',\n",
       " 'MINISTRY OF WATER',\n",
       " 'Ga',\n",
       " 'K',\n",
       " 'Swiss If',\n",
       " 'Miziriol',\n",
       " 'Yasini Selemani',\n",
       " 'DBSPE',\n",
       " 'European Union',\n",
       " 'H',\n",
       " 'TPP TRUSTMOSHI',\n",
       " 'Atisan',\n",
       " 'Jika',\n",
       " 'ISF/TACARE',\n",
       " 'Oikos E.Africa',\n",
       " 'Hydom Luthelani',\n",
       " 'Kalumbwa',\n",
       " 'ILCT',\n",
       " 'MS',\n",
       " 'RUVUMA BASIN',\n",
       " 'Gold star',\n",
       " 'Mi',\n",
       " 'Mzungu Paul',\n",
       " 'Kanisa katoliki',\n",
       " 'Caltas',\n",
       " 'RED CROSS',\n",
       " 'World bank',\n",
       " 'Losaa-Kia water supp',\n",
       " 'Jica',\n",
       " 'PET',\n",
       " 'Finland Government',\n",
       " 'GAICA',\n",
       " 'Institution',\n",
       " 'TCRS/TLC',\n",
       " 'Loliondo Parish',\n",
       " 'GACHUMA CONSTRUCTION',\n",
       " 'Diocese of Geita',\n",
       " 'Villages',\n",
       " 'MSABI',\n",
       " 'Total landcare',\n",
       " 'VICTORIA DRILL CO',\n",
       " 'U.S.A',\n",
       " 'VTECOS',\n",
       " 'COW',\n",
       " 'Vill',\n",
       " 'Contr',\n",
       " 'Wadeco',\n",
       " 'KIM KIM CONSTRUCTION',\n",
       " 'Msabi',\n",
       " 'VC',\n",
       " 'CMSR',\n",
       " 'Ko',\n",
       " 'Roman Catholic Rulenge Diocese',\n",
       " 'Shule',\n",
       " 'W',\n",
       " 'inkinda',\n",
       " 'Africa Amini Alama',\n",
       " 'Consultant',\n",
       " 'L',\n",
       " 'Moroil',\n",
       " 'Sekei village community',\n",
       " 'US Embassy',\n",
       " 'PIT COOPERATION  LTD',\n",
       " 'Do',\n",
       " 'world',\n",
       " 'Government /TCRS',\n",
       " 'UNHCR',\n",
       " 'DESK C',\n",
       " 'Dr.Matomola',\n",
       " 'FOLAC',\n",
       " 'Village govt',\n",
       " 'BSF',\n",
       " 'Roman Cathoric Same',\n",
       " 'RWE/Community',\n",
       " 'Mileniam project',\n",
       " 'ACTIVE TANK CO',\n",
       " 'Ncaa',\n",
       " 'Africa Islamic Agency Tanzania',\n",
       " 'Max Mbise',\n",
       " 'DADS',\n",
       " 'Institutional',\n",
       " 'SOWASA',\n",
       " 'CCPK',\n",
       " 'AUSTRALIA',\n",
       " 'not known',\n",
       " 'Kalago enterprises Co.Ltd',\n",
       " 'Roman Catholic',\n",
       " 'NANRA contractor',\n",
       " 'WORLD VISION',\n",
       " 'No',\n",
       " 'ADP Busangi',\n",
       " 'TSRC',\n",
       " 'SOLIDAME',\n",
       " 'Barry A. Murphy',\n",
       " 'Tanzania Government',\n",
       " 'WILLIAMSON DIAMOND LTD',\n",
       " 'TAG',\n",
       " 'The I',\n",
       " 'Total Landcare',\n",
       " 'CENTRAL GOVERNMENT',\n",
       " 'Arabs Community',\n",
       " 'Secondary school',\n",
       " 'Water Aid/Sema',\n",
       " 'Jiks',\n",
       " 'Konoike',\n",
       " 'ABASIA',\n",
       " 'LAMP',\n",
       " 'SINGIDA YETU',\n",
       " 'RWSP',\n",
       " 'MDALA Contractor',\n",
       " 'Netherlands',\n",
       " 'DWT',\n",
       " 'TCRS /CARE',\n",
       " 'Makonde',\n",
       " 'Japan',\n",
       " 'Milenium',\n",
       " 'Goldstar',\n",
       " 'District COUNCIL',\n",
       " 'MUWASA',\n",
       " 'Green',\n",
       " 'Kigoma municipal',\n",
       " 'KINAPA',\n",
       " 'CHINA HENAN CONTRACTOR',\n",
       " 'Musa',\n",
       " 'TANAPA',\n",
       " 'Ministry of water engineer',\n",
       " 'EFG',\n",
       " 'MASWI',\n",
       " 'Kyariga',\n",
       " 'Roman Cathoric -Kilomeni',\n",
       " 'Mbozi Secondary School',\n",
       " 'TASAF/DMDD',\n",
       " 'MWS',\n",
       " 'Roman catholic',\n",
       " 'Shekhe',\n",
       " 'Rished',\n",
       " 'KONOIKE',\n",
       " 'Pata',\n",
       " 'TAHEA',\n",
       " 'Luthe',\n",
       " 'Kalta',\n",
       " 'Pentecost church',\n",
       " 'Amboni Plantation',\n",
       " 'Municipal',\n",
       " 'Sekondari',\n",
       " 'Kalitasi',\n",
       " 'HOTELS AND LOGGS TZ LTD',\n",
       " 'DISTRICT COUNCIL',\n",
       " 'Germany',\n",
       " 'Orphanage',\n",
       " 'WWF',\n",
       " 'W.B',\n",
       " 'IDYDC',\n",
       " 'SIA Ltd',\n",
       " 'WINAM  CONSTRUCTION',\n",
       " 'RIDEP',\n",
       " 'NORA',\n",
       " 'SCHOOL',\n",
       " 'Village community',\n",
       " 'British',\n",
       " 'Msuba',\n",
       " 'Villaers',\n",
       " 'TLC/Thimotheo Masunga',\n",
       " 'WB',\n",
       " 'Council',\n",
       " 'DAK',\n",
       " 'COCANE',\n",
       " 'WINAMU CO',\n",
       " 'Ubalozi wa Marekani',\n",
       " 'Conce',\n",
       " 'BGM',\n",
       " 'DMK',\n",
       " 'Mviwa',\n",
       " 'KA',\n",
       " 'MGM',\n",
       " 'AIMGOLD',\n",
       " 'YEBE CHIKOMESH',\n",
       " 'Omari Mzee',\n",
       " 'Petro Patrice',\n",
       " 'Camartec',\n",
       " 'Total land care',\n",
       " 'Wasso companies',\n",
       " 'DASP',\n",
       " 'Islamic Agency Tanzania',\n",
       " 'Tanz Egypt technical coopera',\n",
       " 'Village Govt',\n",
       " 'local technician',\n",
       " 'TAWASA',\n",
       " 'WATER  AID',\n",
       " 'AAR',\n",
       " 'MSF',\n",
       " 'Di',\n",
       " 'Mackd',\n",
       " 'MAMAD',\n",
       " 'PADEP',\n",
       " 'Fabia',\n",
       " 'CONCERN',\n",
       " 'ITALI',\n",
       " 'Water aid/sema',\n",
       " 'Save the rain USA',\n",
       " 'Plan Tanzania',\n",
       " 'Roman Church',\n",
       " 'Singasinga',\n",
       " 'RC/Mission',\n",
       " 'In',\n",
       " 'V',\n",
       " 'Korogwe water works',\n",
       " 'PCI',\n",
       " 'Atlas',\n",
       " 'DWE /TASSAF',\n",
       " 'Local te',\n",
       " 'World Division',\n",
       " 'Gwaseco',\n",
       " 'Kambi Migoko',\n",
       " 'AI',\n",
       " 'SAUWASA',\n",
       " 'Nyakilanganyi',\n",
       " 'DEE',\n",
       " 'MANYARA CONSTRUCTION',\n",
       " 'Rotte',\n",
       " 'KMCL',\n",
       " 'LINDALA CO',\n",
       " 'Government /Community',\n",
       " 'CCPS',\n",
       " 'SI',\n",
       " 'Rundu man',\n",
       " 'Water Aid/sema',\n",
       " 'Naishu construction co. ltd',\n",
       " 'WOULD BANK',\n",
       " 'Mark',\n",
       " 'Cosmo',\n",
       " 'Halmashauri',\n",
       " 'Concern /government',\n",
       " 'Quick win project',\n",
       " 'Mh Kapuya',\n",
       " 'Halmashauri ya wilaya',\n",
       " 'Edward',\n",
       " 'COMMU',\n",
       " 'Baric',\n",
       " 'Consuting Engineer',\n",
       " 'JANDU PLUMBER CO',\n",
       " 'FiNI WATER',\n",
       " 'CPRO',\n",
       " 'Getekwe',\n",
       " 'Jicks',\n",
       " 'Wahidi',\n",
       " 'Mohamed Ally',\n",
       " 'ASDP',\n",
       " 'CITIZEN ENGINE',\n",
       " 'KADP',\n",
       " 'Dar es salaam Technician',\n",
       " 'Halmashauli',\n",
       " 'ACORD',\n",
       " 'MA',\n",
       " 'Water  Aid/Sema',\n",
       " 'RC church/CEFA',\n",
       " 'Wedeco',\n",
       " 'DWE/Ubalozi wa Marekani',\n",
       " 'VIFAFI',\n",
       " 'Kwasenenge Group',\n",
       " 'Cosmos Engineering',\n",
       " 'OLDONYOLENGAI',\n",
       " 'NYAKILANGANI CO',\n",
       " 'Village Community',\n",
       " 'MINJINGU',\n",
       " 'EL',\n",
       " 'Songa',\n",
       " 'Consultant and DWE',\n",
       " 'AC',\n",
       " 'Gain',\n",
       " 'DASIP',\n",
       " 'TANROAD',\n",
       " 'Tasaf',\n",
       " 'Wasso',\n",
       " 'Teonas Wambura',\n",
       " 'Mgaya Masese',\n",
       " 'TUKWALE ENTERP',\n",
       " 'Sao',\n",
       " 'MWAKI CONTRACTOR',\n",
       " 'VIEN CONSTRUCTION',\n",
       " 'mwita kichere',\n",
       " 'DADS/village community',\n",
       " 'Africare',\n",
       " 'Mosque',\n",
       " 'Chiko',\n",
       " 'central government',\n",
       " 'VITECOS',\n",
       " 'IN',\n",
       " 'Msikiti',\n",
       " 'Word Bank',\n",
       " 'Kwamdulu estate',\n",
       " 'SEMA Consultant',\n",
       " 'Concern',\n",
       " 'Belgiam Government',\n",
       " 'Wanan',\n",
       " 'Exaud Msambwa',\n",
       " 'Niger',\n",
       " 'MWANZA',\n",
       " 'SONGAS',\n",
       " 'MINISTRYOF WATER',\n",
       " 'COMMUNITY',\n",
       " 'Zaburi and neighbors',\n",
       " 'NDM',\n",
       " 'Killflora/ Community',\n",
       " 'PART',\n",
       " 'secondary',\n",
       " \"lion's club\",\n",
       " 'lutheran church',\n",
       " 'Mileniam',\n",
       " 'UYOGE',\n",
       " 'Christina Magoge',\n",
       " 'Canada na Tanzania',\n",
       " 'FRANKFURT',\n",
       " 'GOVERM',\n",
       " 'Kuji foundation',\n",
       " 'Mamvua Kakungu',\n",
       " 'Rusumo Game reserve',\n",
       " 'MTUWASA and Community',\n",
       " 'ACT MARA',\n",
       " 'UMOJA DRILLING',\n",
       " 'KkKT',\n",
       " 'SDA',\n",
       " 'Mzinga A',\n",
       " 'RE',\n",
       " 'LOOCIP',\n",
       " 'SUA',\n",
       " 'RUNDAGA',\n",
       " 'RWE /Community',\n",
       " 'Wo',\n",
       " 'Happy watoto foundation',\n",
       " 'GDP',\n",
       " 'ViLLAGE COUNCIL',\n",
       " 'MBULU DISTRICT COUNCIL',\n",
       " 'Maliasili',\n",
       " 'Roman Ca',\n",
       " 'NZILA',\n",
       " 'stansilaus',\n",
       " 'AFRICAN DEVELOPMENT FOUNDATION',\n",
       " 'FPTC',\n",
       " 'KARUMBA BIULDING COMPANY LTD',\n",
       " 'Kalugendo',\n",
       " 'Village Government',\n",
       " 'Tabraki',\n",
       " 'MASWI DRILLING',\n",
       " 'Ikela Wa',\n",
       " 'Shallow well',\n",
       " 'WEDECO/WESSONS',\n",
       " 'CIPRO/CARE/TCRS',\n",
       " 'Wasso contractors',\n",
       " 'villagers',\n",
       " 'Mwanga town water authority',\n",
       " 'Jumanne Siabo',\n",
       " 'Mama Kalage',\n",
       " 'Hindu',\n",
       " 'Rural',\n",
       " 'TANAP',\n",
       " 'Makonde water supply',\n",
       " 'villigers',\n",
       " 'Bingo foundation Germany',\n",
       " 'Ilwilo community',\n",
       " 'St ph',\n",
       " 'WDECO',\n",
       " 'LIVI',\n",
       " 'Pet Corporation Ltd',\n",
       " 'DWE & LWI',\n",
       " 'LC',\n",
       " 'KKKT Leguruki',\n",
       " 'HIAP',\n",
       " 'Matyenye',\n",
       " 'DIMON',\n",
       " 'Italy government',\n",
       " 'MASWI DRILL',\n",
       " 'WVC',\n",
       " 'TACRI',\n",
       " 'Hasnein Murij',\n",
       " 'SIMBA LODGE',\n",
       " 'Faudh Tamimu',\n",
       " 'Free Pentecoste Church of Tanz',\n",
       " 'Summit for water/Community',\n",
       " 'Sanje Wa',\n",
       " 'Makundya',\n",
       " 'Individual',\n",
       " 'OLA',\n",
       " 'RC C',\n",
       " 'TREDEP',\n",
       " 'Consultant Engineer',\n",
       " 'AQUA WEL',\n",
       " 'Cental Government',\n",
       " 'Nyanza road',\n",
       " 'Kizenga',\n",
       " 'KKT',\n",
       " 'HAPA',\n",
       " 'Oikos E. Africa',\n",
       " 'Ramadhani Nyambizi',\n",
       " 'Mdala Contractor',\n",
       " 'DENISH',\n",
       " 'Mkuyu',\n",
       " 'GOVERN',\n",
       " 'GACHUMA GINERY',\n",
       " 'Resolute',\n",
       " 'Morrov',\n",
       " 'Serikali ya kijiji',\n",
       " 'Counc',\n",
       " 'Igolola community',\n",
       " 'S',\n",
       " 'NYAKILANGANI CONSTRUCTION',\n",
       " 'RDWS',\n",
       " 'Said Omari',\n",
       " 'AFRICA MUSLIM',\n",
       " 'IADO',\n",
       " 'W/',\n",
       " 'Ngiresi village community',\n",
       " 'UDC/Sema',\n",
       " 'AMP contractor',\n",
       " 'rc ch',\n",
       " 'QWICKWIN',\n",
       " 'Mwita Muremi',\n",
       " 'TLC/Samora',\n",
       " 'Oikos E.Afrika',\n",
       " 'Ruangwa contractor',\n",
       " 'HAYDOM LUTHERAN HOSPITAL',\n",
       " 'VICFISH LTD',\n",
       " 'Lindi contractor',\n",
       " 'RC CH',\n",
       " 'Kilomber',\n",
       " 'Pet Coporation Ltd',\n",
       " 'Afroz Ismail',\n",
       " 'Ja',\n",
       " 'commu',\n",
       " 'Sisal Estste Hale',\n",
       " 'KOREA',\n",
       " 'CVS Miss',\n",
       " 'Songas',\n",
       " 'Living water international',\n",
       " 'Kajima',\n",
       " 'Missio',\n",
       " 'UAACC',\n",
       " 'GERMANY MISSIONARY',\n",
       " 'MI',\n",
       " 'Rips',\n",
       " 'LVA Ltd',\n",
       " 'BUKUMB',\n",
       " 'Taasi',\n",
       " 'STAMPERS',\n",
       " 'Meru Concrete',\n",
       " 'WIZARA',\n",
       " 'MLAKI CO',\n",
       " 'Segera Estate',\n",
       " 'WADECO',\n",
       " 'Hospi',\n",
       " 'Cebtral Government',\n",
       " 'local  technician',\n",
       " 'Siza Mayengo',\n",
       " 'SAXON',\n",
       " 'Greec',\n",
       " 'KASHERE',\n",
       " 'GURUMETI SAGITA CO',\n",
       " 'China',\n",
       " 'MP',\n",
       " 'Islam',\n",
       " 'water board',\n",
       " 'AMP Contract',\n",
       " 'Thomasi busigaye',\n",
       " 'Local technitian',\n",
       " 'SIJM',\n",
       " 'KKKT Ndrumangeni',\n",
       " 'YUMBAKA ENGINEERING',\n",
       " 'TAG CHURCH',\n",
       " 'Usambala sisters',\n",
       " 'KOBERG Contractor',\n",
       " 'hesawa',\n",
       " 'Water Authority',\n",
       " 'Mr Chi',\n",
       " 'Hearts helping hands.Inc.',\n",
       " 'IDEA',\n",
       " 'Selous G',\n",
       " 'SULEMAN IDD',\n",
       " 'Pump entecostal Sweeden',\n",
       " 'Ester Ndege',\n",
       " 'Nyabarongo Kegoro',\n",
       " 'Canop',\n",
       " 'QUIK',\n",
       " 'DADP',\n",
       " 'Kanisani',\n",
       " 'CARTAS',\n",
       " 'Mzung',\n",
       " 'wizara ya maji',\n",
       " 'VILLAGE COUNCIL .ODA',\n",
       " 'CG',\n",
       " 'Caltus',\n",
       " 'Cons',\n",
       " 'ISSAC MOLLEL',\n",
       " 'malola',\n",
       " 'DCCA',\n",
       " 'Juma Maro',\n",
       " 'Water Project Mbawala chini',\n",
       " 'Unicef',\n",
       " 'Totoland care',\n",
       " 'Maswi drilling co ltd',\n",
       " 'NDDP',\n",
       " 'KMT',\n",
       " 'NGINIL',\n",
       " 'Serengeti District concil',\n",
       " 'RC church',\n",
       " 'VILLAG',\n",
       " 'Local technical tec',\n",
       " 'Cultus',\n",
       " 'T',\n",
       " 'Hery',\n",
       " 'OBC',\n",
       " 'RUDEP',\n",
       " 'RWE Community',\n",
       " 'Nyamongo Gold mining',\n",
       " 'Redep',\n",
       " 'Norani',\n",
       " 'Mahita',\n",
       " '-',\n",
       " 'Villag',\n",
       " 'germany',\n",
       " 'KARUMBA BIULDIN',\n",
       " 'AIXOS',\n",
       " 'Selikali',\n",
       " 'DDP',\n",
       " 'Village government',\n",
       " 'Zacharia MTN',\n",
       " 'Africa',\n",
       " 'PAD',\n",
       " 'KASHWA',\n",
       " 'TWENDE PAMOJA',\n",
       " 'Uhai wa mama na mtoto',\n",
       " 'OLOMOLOKI',\n",
       " 'Ardhi water well',\n",
       " 'Distric Water Department',\n",
       " 'gwitembe',\n",
       " 'Conta',\n",
       " 'HOWARD HUMFREYS',\n",
       " 'SHUWASA',\n",
       " 'JANDU PLUMBER  CO',\n",
       " 'Makori',\n",
       " 'Sangea District Coun',\n",
       " 'CHINA',\n",
       " 'British colonial government',\n",
       " 'Maendeleo ya jamii',\n",
       " 'CARITAS',\n",
       " 'Taes',\n",
       " 'KWIKWIZ',\n",
       " 'SEMA CO LTD',\n",
       " 'SENAPA',\n",
       " 'REGWA COMPANY OF EGYPT',\n",
       " 'COBASHEC',\n",
       " 'AQUA Wat',\n",
       " 'Dr.Matobola',\n",
       " 'Central basin',\n",
       " 'Mamlaka ya maji ngara',\n",
       " 'PRF',\n",
       " 'Church',\n",
       " 'Magadini Makiwaru wa',\n",
       " 'Mpang',\n",
       " 'KAYEMPU LTD',\n",
       " 'TRACHOMA',\n",
       " 'FURAHIA TRADING',\n",
       " 'HESAW',\n",
       " 'Moravian',\n",
       " 'Samsoni',\n",
       " 'MD',\n",
       " 'GURUMETI SAGITA',\n",
       " 'Songea District Coun',\n",
       " 'Cast',\n",
       " 'N.P.R.',\n",
       " 'Panone',\n",
       " 'Hemed Abdallah',\n",
       " 'Lawate fuka water su',\n",
       " 'St Gasper',\n",
       " 'WINNIN SPIRIT CO',\n",
       " 'Ha',\n",
       " 'MMG GOLD MINE',\n",
       " 'P.N.R.',\n",
       " 'Nandra Construction',\n",
       " 'Mchuk',\n",
       " 'African Realief Committe of Ku',\n",
       " 'SCOTT',\n",
       " 'D$L',\n",
       " 'Mzungu',\n",
       " 'Vi',\n",
       " 'JLH CO LTD',\n",
       " 'Msiki',\n",
       " 'Namungo',\n",
       " 'Nassor Fehed',\n",
       " 'TWESA /Community',\n",
       " 'DBFPE',\n",
       " 'EF',\n",
       " 'Serikali',\n",
       " 'Mgaya Mwita',\n",
       " 'Clause workers',\n",
       " 'MLAKI  CO',\n",
       " 'Busoga trust',\n",
       " 'mzee mabena',\n",
       " 'NORAD/',\n",
       " 'BR',\n",
       " 'local technitian',\n",
       " 'Comunity',\n",
       " 'Brad',\n",
       " 'Tanganyika Basin',\n",
       " 'MORNING CONSTRUCTION',\n",
       " 'Healt',\n",
       " 'Governme',\n",
       " 'Roma',\n",
       " 'KUMKUM',\n",
       " 'PNR co',\n",
       " 'Muslims',\n",
       " 'Paffec',\n",
       " 'Tansi',\n",
       " 'CRAELIUS',\n",
       " 'APM',\n",
       " 'Zao water spring X',\n",
       " 'TASA',\n",
       " 'CSPD',\n",
       " 'CIPRO/CARE',\n",
       " 'DALDO',\n",
       " 'VIFAF',\n",
       " 'MTC',\n",
       " 'TCRS Kibondo',\n",
       " 'Howard and humfrey consultant',\n",
       " 'RUDEP/',\n",
       " 'LUNGWE',\n",
       " 'Dhinu',\n",
       " 'AIC KI',\n",
       " 'Mataro',\n",
       " 'FINI Water',\n",
       " 'Mombo urban water',\n",
       " 'REDAP',\n",
       " 'Kagulo',\n",
       " 'TMP',\n",
       " ...]"
      ]
     },
     "execution_count": 21,
     "metadata": {},
     "output_type": "execute_result"
    }
   ],
   "source": [
    "list(df[\"installer\"].unique())"
   ]
  },
  {
   "cell_type": "markdown",
   "metadata": {},
   "source": [
    "Unfortunately, the installer column is not well-formatted. We see a number of versions of the same concept (particularly versions of \"unknown,\" \"government,\" and various school groups). As such, while this could be useful information, we do not have time to clean this data and will have to drop this column. With additional time and resources, this could be worth revisiting. "
   ]
  },
  {
   "cell_type": "code",
   "execution_count": 22,
   "metadata": {},
   "outputs": [],
   "source": [
    "drop_columns.append(\"installer\")"
   ]
  },
  {
   "cell_type": "code",
   "execution_count": 23,
   "metadata": {},
   "outputs": [
    {
     "data": {
      "text/plain": [
       "3635"
      ]
     },
     "execution_count": 23,
     "metadata": {},
     "output_type": "execute_result"
    }
   ],
   "source": [
    "df[\"funder\"].isna().sum()"
   ]
  },
  {
   "cell_type": "code",
   "execution_count": 24,
   "metadata": {},
   "outputs": [
    {
     "data": {
      "text/plain": [
       "Government Of Tanzania          9084\n",
       "Danida                          3114\n",
       "Hesawa                          2202\n",
       "Rwssp                           1374\n",
       "World Bank                      1349\n",
       "                                ... \n",
       "Kkkt Canal                         1\n",
       "Motiba Wambura                     1\n",
       "Kamama                             1\n",
       "Gurdians                           1\n",
       "Diocese Of Mount Kilimanjaro       1\n",
       "Name: funder, Length: 1897, dtype: int64"
      ]
     },
     "execution_count": 24,
     "metadata": {},
     "output_type": "execute_result"
    }
   ],
   "source": [
    "df[\"funder\"].value_counts()"
   ]
  },
  {
   "cell_type": "code",
   "execution_count": 25,
   "metadata": {},
   "outputs": [
    {
     "data": {
      "text/plain": [
       "['Roman',\n",
       " 'Grumeti',\n",
       " 'Lottery Club',\n",
       " 'Unicef',\n",
       " 'Action In A',\n",
       " 'Mkinga Distric Coun',\n",
       " 'Dwsp',\n",
       " 'Rwssp',\n",
       " 'Wateraid',\n",
       " 'Isingiro Ho',\n",
       " 'Private',\n",
       " 'Danida',\n",
       " 'World Vision',\n",
       " 'Lawatefuka Water Supply',\n",
       " 'Biore',\n",
       " 'Rudep',\n",
       " 'Hesawa',\n",
       " 'Twe',\n",
       " 'Isf',\n",
       " 'African Development Bank',\n",
       " 'Government Of Tanzania',\n",
       " 'Sobodo',\n",
       " 'Water',\n",
       " 'Private Individual',\n",
       " 'Undp',\n",
       " nan,\n",
       " 'Not Known',\n",
       " 'Kirde',\n",
       " 'Cefa',\n",
       " 'Ces(gmbh)',\n",
       " 'European Union',\n",
       " 'Lga',\n",
       " 'District Council',\n",
       " 'Muwsa',\n",
       " 'Dwe/norad',\n",
       " 'Kkkt_makwale',\n",
       " 'Sawaka',\n",
       " 'Ces (gmbh)',\n",
       " 'Olgilai Village Community',\n",
       " 'Kkkt',\n",
       " 'Roman Catholic',\n",
       " 'Norad',\n",
       " 'Adra',\n",
       " 'Sema',\n",
       " 'Piusi',\n",
       " 'Dwe',\n",
       " 'Rc Church',\n",
       " 'Swisland/ Mount Meru Flowers',\n",
       " 'Ifad',\n",
       " 'Swedish',\n",
       " 'Idc',\n",
       " 'He',\n",
       " 'Isf/tacare',\n",
       " 'Jica',\n",
       " 'Mzee Sh',\n",
       " 'Aict',\n",
       " 'Tcrs',\n",
       " 'Kiuma',\n",
       " 'Germany Republi',\n",
       " 'Netherlands',\n",
       " 'Ruthe',\n",
       " 'Tulawaka Gold Mine',\n",
       " 'Nethalan',\n",
       " 'Tasaf',\n",
       " 'Concern World Wide',\n",
       " 'Wfp',\n",
       " 'Lips',\n",
       " 'Sida',\n",
       " 'World Bank',\n",
       " 'Tanza',\n",
       " '0',\n",
       " 'Sw',\n",
       " 'Shipo',\n",
       " 'Fini Water',\n",
       " 'Kanisa',\n",
       " 'Oxfarm',\n",
       " 'Village Council',\n",
       " 'Hesawz',\n",
       " 'Shanta',\n",
       " 'Fpct',\n",
       " 'Wvt',\n",
       " 'Dhv',\n",
       " 'Ir',\n",
       " 'Oikos E.Afrika',\n",
       " 'Anglican Church',\n",
       " 'Peters',\n",
       " 'Donor',\n",
       " 'Secondary Schoo',\n",
       " 'Amref',\n",
       " 'Ministry Of Water',\n",
       " 'Adb',\n",
       " 'Jbg',\n",
       " 'Dadis',\n",
       " 'International Aid Services',\n",
       " 'Germany',\n",
       " 'Kibaha Town Council',\n",
       " 'Dsdp',\n",
       " 'Dfid',\n",
       " 'Rural Water Supply And Sanitat',\n",
       " 'Af',\n",
       " 'Wananchi',\n",
       " 'Fw',\n",
       " 'No',\n",
       " 'Dct',\n",
       " 'Africare',\n",
       " 'Norad /government',\n",
       " 'British Colonial Government',\n",
       " 'Co',\n",
       " 'Ridep',\n",
       " 'Tassaf',\n",
       " 'Hans',\n",
       " 'Socie',\n",
       " 'Finw',\n",
       " 'Fin Water',\n",
       " 'Oxfam',\n",
       " 'Plan International',\n",
       " 'African Muslim Agency',\n",
       " 'Go',\n",
       " 'Cdtf',\n",
       " 'Shawasa',\n",
       " 'Un',\n",
       " 'Awf',\n",
       " 'Commu',\n",
       " 'Community',\n",
       " 'Save The Rain Usa',\n",
       " 'Kibara Foundation',\n",
       " 'Tlc',\n",
       " 'Rc Churc',\n",
       " 'Plan Int',\n",
       " 'W.B',\n",
       " 'Lvia',\n",
       " 'Songea District Council',\n",
       " 'Hifab',\n",
       " 'Rc Ch',\n",
       " 'Makonde Water Population',\n",
       " 'Snv',\n",
       " 'Government/ Community',\n",
       " 'National Rural',\n",
       " 'Is',\n",
       " 'Giz',\n",
       " 'Cspd',\n",
       " 'Medicine',\n",
       " 'Wsdp',\n",
       " 'Unice/ Cspd',\n",
       " 'Finn Water',\n",
       " 'Kamama',\n",
       " 'Villagers',\n",
       " 'Ereto',\n",
       " 'Abasia',\n",
       " 'Unhcr',\n",
       " 'Ebaha',\n",
       " 'Kuwait',\n",
       " 'Magadini-makiwaru Water',\n",
       " 'Mh An',\n",
       " 'Kaemp',\n",
       " 'African Relie',\n",
       " 'Rcchurch/cefa',\n",
       " 'Norad/ Kidep',\n",
       " 'Private Owned',\n",
       " 'Tardo',\n",
       " 'Insututional',\n",
       " 'Sabemo',\n",
       " 'Missi',\n",
       " 'Dmdd',\n",
       " 'Dhv\\\\norp',\n",
       " 'Mission',\n",
       " 'Ru',\n",
       " 'Halmashauri Ya Wilaya Sikonge',\n",
       " 'Japan',\n",
       " 'Simone',\n",
       " 'Ki',\n",
       " 'Peace Cope',\n",
       " 'Finland',\n",
       " 'Marafip',\n",
       " 'Ta',\n",
       " 'Su-ki Jang',\n",
       " 'Tado',\n",
       " 'Tanzania',\n",
       " 'Il',\n",
       " 'Bank',\n",
       " 'Ded',\n",
       " 'Irc',\n",
       " 'Sabodo',\n",
       " 'Soda',\n",
       " 'I.E.C',\n",
       " 'Drdp Ngo',\n",
       " 'Lwi',\n",
       " 'Maxavella',\n",
       " 'Ics',\n",
       " 'African',\n",
       " 'Bilila',\n",
       " 'Tpp',\n",
       " 'Cipro/government',\n",
       " 'Tabora Municipal Council',\n",
       " 'Salim Ahmed Salim',\n",
       " 'Eu/acra',\n",
       " 'Kadres Ngo',\n",
       " 'Regional Water Engineer Arusha',\n",
       " 'Quickwi',\n",
       " 'Dhv Moro',\n",
       " 'Hewasa',\n",
       " 'Tasaf And Lga',\n",
       " 'Jaica',\n",
       " 'Village Res',\n",
       " 'Kkkt-dioces Ya Pare',\n",
       " 'Aic',\n",
       " 'Solidarm',\n",
       " 'Christan Outrich',\n",
       " 'Kanisa La Menonite',\n",
       " 'Islamic',\n",
       " 'Rc',\n",
       " 'Killflora',\n",
       " 'Bread For The Wor',\n",
       " 'Wua',\n",
       " 'Mac',\n",
       " 'Caltaz Kahama',\n",
       " 'Mianz',\n",
       " 'Dw',\n",
       " 'Makapuchini',\n",
       " 'Tasaf Ii',\n",
       " 'Omar Ally',\n",
       " 'Md',\n",
       " 'Mitema',\n",
       " 'Ham',\n",
       " 'Quwkwin',\n",
       " 'Do',\n",
       " 'Dh',\n",
       " 'Bokera W',\n",
       " 'Bulyahunlu Gold Mine',\n",
       " 'Mbiuwasa',\n",
       " 'The Isla',\n",
       " 'Rotary Club',\n",
       " 'Muslims',\n",
       " 'Care International',\n",
       " 'Kimkuma',\n",
       " 'Tanesco',\n",
       " 'Mbozi District Council',\n",
       " 'Dasip',\n",
       " 'Tltc',\n",
       " 'Sdg',\n",
       " 'Hsw',\n",
       " 'Mwaya Mn',\n",
       " 'Resolute Mining',\n",
       " 'Tz Japan',\n",
       " 'Roman Cathoric Same',\n",
       " 'Concern',\n",
       " 'Caritas',\n",
       " 'Conce',\n",
       " 'Huches',\n",
       " 'Wamarekani',\n",
       " 'Devon Aid Korogwe',\n",
       " 'Kiliwater',\n",
       " 'Lamp',\n",
       " 'Bsf',\n",
       " 'Mem',\n",
       " 'Jeica',\n",
       " 'Father Bonifasi',\n",
       " 'Bgm',\n",
       " 'Lcgd',\n",
       " 'Karadea Ngo',\n",
       " 'Msf/tacare',\n",
       " 'Fathe',\n",
       " 'Unice',\n",
       " 'Mdc',\n",
       " 'Dasp',\n",
       " 'Songea Municipal Counci',\n",
       " 'Tasae',\n",
       " 'Water User As',\n",
       " 'Msikiti',\n",
       " 'Cct',\n",
       " 'Islamic Found',\n",
       " 'Tgrs',\n",
       " 'Unicef/ Csp',\n",
       " 'Jimbo Fund',\n",
       " 'Tlc/john Majala',\n",
       " 'Magoma Adp',\n",
       " 'Vwc',\n",
       " 'Pidp',\n",
       " 'Japan Government',\n",
       " 'Kata',\n",
       " 'De',\n",
       " 'Acra',\n",
       " 'Gtz',\n",
       " 'Isf/government',\n",
       " 'Kuwasa',\n",
       " 'China Government',\n",
       " 'Taboma',\n",
       " 'P',\n",
       " 'Kingupira S',\n",
       " 'Churc',\n",
       " 'Walokole',\n",
       " 'Mkinga  Distric Cou',\n",
       " 'Cafod',\n",
       " 'Hw/rc',\n",
       " 'Sumbawanga Munici',\n",
       " 'Tacare',\n",
       " 'Urt',\n",
       " 'Camavita',\n",
       " 'Member Of Parliament',\n",
       " 'Dmmd',\n",
       " 'Aqua Blues Angels',\n",
       " 'Water Aid /sema',\n",
       " 'Kirdep',\n",
       " 'Cc Motor Day 2010',\n",
       " 'Kilwater',\n",
       " 'Ndrdp',\n",
       " 'Hez',\n",
       " 'Nethe',\n",
       " 'Denat',\n",
       " 'Kibo Brewaries',\n",
       " 'Arab Community',\n",
       " 'Elct',\n",
       " 'Adp',\n",
       " 'Priva',\n",
       " 'Holland',\n",
       " 'Rc Church/centr',\n",
       " 'Cocen',\n",
       " 'Wfp/tnt',\n",
       " 'Lench Taramai',\n",
       " 'Ncaa',\n",
       " 'Mzee Don',\n",
       " 'World Vision/ Kkkt',\n",
       " 'Finwater',\n",
       " 'Kuamu',\n",
       " 'Dwssp',\n",
       " 'Musilim Agency',\n",
       " 'Ukiligu',\n",
       " 'Wamakapuchini',\n",
       " 'Mbunge',\n",
       " 'The Desk And Chair Foundat',\n",
       " 'Duwas',\n",
       " 'Diwani',\n",
       " 'Kkkt Church',\n",
       " 'Ea',\n",
       " 'Halmashauri Ya Manispa Tabora',\n",
       " 'Finidagermantanzania Govt',\n",
       " 'Bahewasa',\n",
       " 'Jika',\n",
       " 'Asb',\n",
       " 'Qwiqwi',\n",
       " 'Pmo',\n",
       " 'Tuwasa',\n",
       " 'Irish Ai',\n",
       " 'Mdrdp',\n",
       " 'Jeshi La Wokovu',\n",
       " 'Government /tassaf',\n",
       " 'Mboma',\n",
       " 'People From Japan',\n",
       " 'Kilindi District Co',\n",
       " 'Shamte Said',\n",
       " 'Auwasa',\n",
       " 'Kidp',\n",
       " 'Tridep',\n",
       " 'St',\n",
       " 'Wd And Id',\n",
       " 'Serikali',\n",
       " 'Kanisa Katoliki',\n",
       " 'Po',\n",
       " 'Ga',\n",
       " 'Cocern',\n",
       " 'Finida German Tanzania Govt',\n",
       " 'National Rural And Hfa',\n",
       " 'K',\n",
       " 'Idara Ya Maji',\n",
       " 'Moslem Foundation',\n",
       " 'Swiss If',\n",
       " 'Miziriol',\n",
       " 'Yasini Selemani',\n",
       " 'Dbspe',\n",
       " 'H',\n",
       " 'A/co Germany',\n",
       " 'Oikos E.Africa/european Union',\n",
       " 'Hydom Luthelani',\n",
       " 'Ilct',\n",
       " 'Peter Tesha',\n",
       " 'Ms',\n",
       " 'Mzungu Paul',\n",
       " 'Caltas',\n",
       " 'Red Cross',\n",
       " 'Losaa-kia Water Supply',\n",
       " 'Tassaf I',\n",
       " 'Kanisa Katoliki Lolovoni',\n",
       " 'Finland Government',\n",
       " 'Gaica',\n",
       " 'Institution',\n",
       " 'Tcrs.Tlc',\n",
       " 'Magereza',\n",
       " 'Loliondo Parish',\n",
       " 'Diocese Of Geita',\n",
       " 'Total Landcare',\n",
       " 'U.S.A',\n",
       " 'Tdft',\n",
       " 'Parastatal',\n",
       " 'Rished',\n",
       " 'Dwt',\n",
       " 'The People Of Japan',\n",
       " 'Kcu',\n",
       " 'Abd',\n",
       " 'Village Government',\n",
       " 'Msabi',\n",
       " 'Vc',\n",
       " 'Cmsr',\n",
       " 'Konoike',\n",
       " 'Roman Catholic Rulenge Diocese',\n",
       " 'Bened',\n",
       " 'Shule',\n",
       " 'W',\n",
       " 'Partage',\n",
       " 'Inkinda',\n",
       " 'Robert Loyal',\n",
       " 'Africa Amini Alama',\n",
       " 'Imf',\n",
       " 'L',\n",
       " 'Moroil',\n",
       " 'Sekei Village Community',\n",
       " 'Us Embassy',\n",
       " 'Missionaries',\n",
       " 'Tcrs /government',\n",
       " 'Desk And Chair Foundation',\n",
       " 'Ms-danish',\n",
       " 'Wsdp & Sdg',\n",
       " 'Roman Cathoric-same',\n",
       " 'Cefa-njombe',\n",
       " 'Aar',\n",
       " 'Village Govt',\n",
       " 'Farm Africa',\n",
       " 'Mheza Distric Counc',\n",
       " 'Chamavita',\n",
       " 'Mileniam Project',\n",
       " 'Undp/ilo',\n",
       " 'Dads',\n",
       " 'Institutional',\n",
       " 'Sowasa',\n",
       " 'Ccpk',\n",
       " 'Tasafu',\n",
       " 'Government/ World Bank',\n",
       " 'Luthe',\n",
       " 'Wirara Ya Maji',\n",
       " 'Mzee Mkungata',\n",
       " 'Rada',\n",
       " 'Twesa',\n",
       " 'Plan Internatio',\n",
       " 'Solidame',\n",
       " 'Rwsso',\n",
       " 'Williamson Diamond Ltd',\n",
       " 'Tag',\n",
       " 'Dar Al Ber',\n",
       " 'Watu Wa Ujerumani',\n",
       " 'Dwe/bamboo Projec',\n",
       " 'Danida /government',\n",
       " 'Semaki K',\n",
       " 'Arabs Community',\n",
       " 'Water Aid/sema',\n",
       " 'District Rural Project',\n",
       " 'Gen',\n",
       " 'Redep',\n",
       " 'Kiwanda Cha Samaki',\n",
       " 'Singida Yetu',\n",
       " 'Rwsp',\n",
       " 'Moravian',\n",
       " 'Sema S',\n",
       " 'Cbhi',\n",
       " 'Tcrs /care',\n",
       " 'Makonde',\n",
       " 'Millenium',\n",
       " 'Swisland/mount Meru Flowers',\n",
       " 'Kigoma Municipal',\n",
       " 'Kinapa',\n",
       " 'People Of Japan',\n",
       " 'Kijij',\n",
       " 'Wfp/tnt/usaid',\n",
       " 'Tanapa',\n",
       " 'Efg',\n",
       " 'Local',\n",
       " 'Kyariga',\n",
       " 'Tanzakesho',\n",
       " 'Roman Cathoric -kilomeni',\n",
       " 'World Vision/adra',\n",
       " 'Mbozi Secondary School',\n",
       " 'Tasaf/dmdd',\n",
       " 'Mws',\n",
       " 'Shekhe',\n",
       " 'Pataji',\n",
       " 'Tahea',\n",
       " 'Kalta',\n",
       " 'Pentecosta Church',\n",
       " 'Sekondari',\n",
       " 'Kyela Council',\n",
       " 'Kalitasi',\n",
       " 'Quick Wins',\n",
       " 'Lowasa',\n",
       " 'Hotels And Loggs Tz Ltd',\n",
       " 'Cobashec',\n",
       " 'Orphanage',\n",
       " 'Adf',\n",
       " 'Wwf',\n",
       " 'Idydc',\n",
       " 'Cper',\n",
       " 'School',\n",
       " 'Ilo',\n",
       " 'Olumuro',\n",
       " 'Villaers',\n",
       " 'Tlc/thimotheo Masunga',\n",
       " 'Dak',\n",
       " 'Kidep',\n",
       " 'Ubalozi Wa Marekani',\n",
       " 'Dmk Anglican',\n",
       " 'Franc',\n",
       " 'Ka',\n",
       " 'Mgm',\n",
       " 'Aimgold',\n",
       " 'Mzee Omari',\n",
       " 'Petro Patrice',\n",
       " 'Camartec',\n",
       " 'Loliondo Secondary',\n",
       " 'Islamic Agency Tanzania',\n",
       " 'Tanz Egypt Technical Cooper',\n",
       " 'Safari Roya',\n",
       " 'Koica',\n",
       " 'Rdc',\n",
       " 'Total Land Care',\n",
       " 'Pad',\n",
       " 'Msf',\n",
       " 'Mamad',\n",
       " 'Padep',\n",
       " 'One Un',\n",
       " 'Fabia',\n",
       " 'Lake Tanganyika',\n",
       " 'Italy',\n",
       " 'Solar Villa',\n",
       " 'Roman Church',\n",
       " 'Singasinga',\n",
       " 'Rc/mission',\n",
       " 'In',\n",
       " 'Adp Mombo',\n",
       " 'Pci',\n",
       " 'Norad/ Tassaf Ii',\n",
       " 'I Wash',\n",
       " 'Bs',\n",
       " 'Kambi Migoko',\n",
       " 'Ai',\n",
       " 'Sauwasa',\n",
       " 'Icdp',\n",
       " 'Rotte',\n",
       " 'Dhv/gove',\n",
       " 'Kmcl',\n",
       " 'Ccps',\n",
       " 'Si',\n",
       " 'Rundu Man',\n",
       " 'Serikari',\n",
       " 'Undp/aict',\n",
       " 'Hdv',\n",
       " 'Halmashauri',\n",
       " 'Concern /govern',\n",
       " 'Quick Win Project /council',\n",
       " 'Mh Kapuya',\n",
       " 'Halmashauri Ya Wilaya',\n",
       " 'Baric',\n",
       " 'Cpro',\n",
       " 'Getekwe',\n",
       " 'Gain',\n",
       " 'Wahidi',\n",
       " 'Asdp',\n",
       " 'Kadp',\n",
       " 'Aco/germany',\n",
       " 'Majengo Prima',\n",
       " 'Hortanzia',\n",
       " 'Quick',\n",
       " 'Hasnan Murig (mbunge)',\n",
       " 'Ikeuchi Towels Japan',\n",
       " 'Halmashauli',\n",
       " 'Acord',\n",
       " 'Menon',\n",
       " 'Wate Aid/sema',\n",
       " 'Dwe/ubalozi Wa Marekani',\n",
       " 'Vifafi',\n",
       " 'Cdg',\n",
       " 'Kwasenenge Group',\n",
       " 'Ded/rwssp',\n",
       " 'Oldonyolengai',\n",
       " 'None',\n",
       " 'Village Community',\n",
       " 'Minjingu',\n",
       " 'El',\n",
       " 'D',\n",
       " 'Songas',\n",
       " 'Mi',\n",
       " 'Action Aid',\n",
       " 'Tanroad',\n",
       " 'Lake Tanganyika Basin',\n",
       " 'Pwc',\n",
       " 'Teonas Wambura',\n",
       " 'Mgaya Masese',\n",
       " 'Stantons',\n",
       " 'Sao H',\n",
       " 'Ukida',\n",
       " 'Taasaf',\n",
       " 'Mwita Kichere',\n",
       " 'Lwf',\n",
       " 'Mosque',\n",
       " 'Peter Ngereka',\n",
       " 'Svn',\n",
       " 'Investor',\n",
       " \"Ju-sarang Church' And Bugango\",\n",
       " 'Lgcdg',\n",
       " 'Action Contre La Faim',\n",
       " 'Kwamdulu Estate',\n",
       " 'Quick Wins Scheme',\n",
       " 'Cpps',\n",
       " 'Belgian Government',\n",
       " 'Cmcr',\n",
       " 'Care Int',\n",
       " 'Mavuno Ngo',\n",
       " 'Niger',\n",
       " 'Mwanza',\n",
       " 'Zaburi And Neig',\n",
       " 'Women For Partnership',\n",
       " 'Artisan',\n",
       " 'Sisa',\n",
       " 'Cdcg',\n",
       " 'Ndm',\n",
       " 'Secondary',\n",
       " 'Da Unoperaio Siciliano',\n",
       " 'Town Council',\n",
       " 'Lions Club',\n",
       " 'Lutheran Church',\n",
       " 'Shirika La Kinamama Na Watot',\n",
       " 'Pangadeco',\n",
       " 'Uyoge',\n",
       " 'Canada',\n",
       " 'Frankfurt',\n",
       " 'Redet',\n",
       " 'Rural Water Department',\n",
       " 'Buptist',\n",
       " 'Unp/aict',\n",
       " 'Timothy Shindika',\n",
       " 'Village Office',\n",
       " 'Lotary Club',\n",
       " 'Hesaw',\n",
       " 'Malec',\n",
       " 'Kuji Foundation',\n",
       " 'Mamvua Kakungu',\n",
       " 'Rusumo Game Reserve',\n",
       " 'Mtuwasa And Community',\n",
       " 'W.D.&.I.',\n",
       " 'Act Mara',\n",
       " 'Sda',\n",
       " 'Mzinga A',\n",
       " 'Vgovernment',\n",
       " 'Re',\n",
       " 'Loocip',\n",
       " 'Sua',\n",
       " 'Brdp',\n",
       " 'Hamref',\n",
       " 'Happy Watoto Foundation',\n",
       " 'Gdp',\n",
       " 'Lgdcg',\n",
       " 'Jgb',\n",
       " 'Mfuko Wa Jimbo',\n",
       " 'Doddea',\n",
       " 'Maliasili',\n",
       " 'Roman Ca',\n",
       " 'Tcrst',\n",
       " 'Holla',\n",
       " 'African Development Foundation',\n",
       " 'Fptc - Pent',\n",
       " 'Makona',\n",
       " 'Oxfam Gb',\n",
       " 'African 2000 Network',\n",
       " 'Netherland',\n",
       " 'Tabraki',\n",
       " 'Balo',\n",
       " 'Dadp',\n",
       " 'Ikela Wa',\n",
       " 'Rotary I',\n",
       " 'Rwssp/wsdp',\n",
       " 'Christian Outrich',\n",
       " 'Cipro/care/tcrs',\n",
       " 'Italian',\n",
       " 'Kome Parish',\n",
       " 'Mwanga Town Water Authority',\n",
       " 'Jumanne Siabo',\n",
       " 'Hindu',\n",
       " 'Rural',\n",
       " 'H/w',\n",
       " 'Tanap',\n",
       " 'Roman Cathoric Church',\n",
       " 'Rombo Dalta',\n",
       " 'Ilwilo Community',\n",
       " 'Un/wfp',\n",
       " 'St Ph',\n",
       " 'Lwiji Italy',\n",
       " 'Livin',\n",
       " 'Cg',\n",
       " 'Hhesawa',\n",
       " 'Lwi & Central Government',\n",
       " 'Lc',\n",
       " 'Kkkt Leguruki',\n",
       " 'Tanzania Compasion',\n",
       " 'Louise Elucas Sala',\n",
       " 'Hiap',\n",
       " 'Cpps Mission',\n",
       " 'Matyenye',\n",
       " 'Dimon',\n",
       " 'Italy Government',\n",
       " 'Tag Church Ub',\n",
       " 'Aic Church',\n",
       " 'Wvc',\n",
       " 'Lgcbg',\n",
       " 'Tacri',\n",
       " 'Chai Wazir',\n",
       " 'Hasnein Murij',\n",
       " 'Rural Water Supply And Sanita',\n",
       " 'Simba Lodge',\n",
       " 'Free Pentecoste Church Of Tanz',\n",
       " 'Summit For Water',\n",
       " 'Sanje Wa',\n",
       " 'Makundya',\n",
       " 'Uhai Wa Mama Na Mtoto',\n",
       " 'Ola',\n",
       " 'Ba As',\n",
       " 'Tredep',\n",
       " 'Nyanza Road',\n",
       " 'Cgc',\n",
       " 'Swidish',\n",
       " 'Kizenga',\n",
       " 'Hapa',\n",
       " 'Ramadhani Nyambizi',\n",
       " 'Denish',\n",
       " 'Mkuyu',\n",
       " 'Ras',\n",
       " 'Mwinjuma Mzee',\n",
       " 'Gachuma Ginery',\n",
       " 'Resolute',\n",
       " 'Morovian',\n",
       " 'Water Board',\n",
       " 'Kigoma Municipal Council',\n",
       " 'Mafwimbo',\n",
       " 'Pentecostal',\n",
       " 'Rocci Ross',\n",
       " 'Igolola Community',\n",
       " 'Pancrasi',\n",
       " 'S',\n",
       " 'Rdws',\n",
       " 'Said Omari',\n",
       " 'Ngiresi Village Community',\n",
       " 'Kilomber',\n",
       " 'Sharifa Athuman',\n",
       " 'Qwickwin',\n",
       " 'Mwita Muremi',\n",
       " 'Mbwana Omari',\n",
       " 'Tlc/samora',\n",
       " 'Mmem',\n",
       " 'Haydom Lutheran Hospital',\n",
       " 'Vicfish Ltd',\n",
       " 'Afroz Ismail',\n",
       " 'Sisal Estste Hale',\n",
       " 'Eu',\n",
       " 'Korea',\n",
       " 'Cvs Miss',\n",
       " 'Moradi',\n",
       " 'Living Water International',\n",
       " 'Kajima',\n",
       " 'Uaacc',\n",
       " 'Germany Misionary',\n",
       " 'Rips',\n",
       " 'France',\n",
       " 'Bukumbi',\n",
       " 'Rhobi',\n",
       " 'Kiwanda Cha Tangawizi',\n",
       " 'Ten Degree Hotel',\n",
       " 'Wssp',\n",
       " 'Meru Concrete',\n",
       " 'Gg',\n",
       " 'Wizara',\n",
       " 'Segera Estate',\n",
       " 'Hospital',\n",
       " 'Dmk',\n",
       " 'Siza Mayengo',\n",
       " 'Greec',\n",
       " 'Makli',\n",
       " 'Mp',\n",
       " 'Islam',\n",
       " 'Dassip',\n",
       " 'Rvemp',\n",
       " 'Adp Bungu',\n",
       " 'Thomasi Busigaye',\n",
       " 'Sijm',\n",
       " 'W.D & I.',\n",
       " 'British Tanza',\n",
       " 'Kkkt Ndrumangeni',\n",
       " 'Tag Church',\n",
       " 'Council',\n",
       " 'Usambala Sister',\n",
       " 'Hearts Helping Hands.Inc.',\n",
       " 'Idea',\n",
       " 'Filo',\n",
       " 'Qwekwin',\n",
       " 'Selous G',\n",
       " 'Pentecostal Hagana Sweeden',\n",
       " 'Ester Ndege',\n",
       " 'Oikos E .Africa/european Union',\n",
       " 'Nyabarongo Kegoro',\n",
       " 'Quik',\n",
       " 'Ringo',\n",
       " 'Kanisani',\n",
       " 'Wfp/usaid/tnt',\n",
       " 'Village Council/ Haydom Luther',\n",
       " 'Fpct Church',\n",
       " 'Mzung',\n",
       " 'Kwikwiz',\n",
       " 'Kanisa La Mitume',\n",
       " 'Iom',\n",
       " 'Oda',\n",
       " 'Caltus',\n",
       " 'Gt',\n",
       " 'Malola',\n",
       " 'Water Project Mbawala Chini',\n",
       " 'Totoland Care',\n",
       " 'Nddp',\n",
       " 'Kmt',\n",
       " 'Anjuman E Seifee',\n",
       " 'Nginila',\n",
       " 'Usa Embassy',\n",
       " 'Village',\n",
       " 'Pdi',\n",
       " 'T',\n",
       " 'Hery',\n",
       " 'Obc',\n",
       " 'Nyamongo Gold Mining',\n",
       " 'Women Fo Partnership',\n",
       " 'Sister Francis',\n",
       " 'Norani',\n",
       " 'Mahita',\n",
       " 'Kalebejo Parish',\n",
       " 'Aixos',\n",
       " 'Government',\n",
       " 'Wrssp',\n",
       " 'Ddp',\n",
       " 'Game Division',\n",
       " 'Rudep /dwe',\n",
       " 'Kashwas',\n",
       " 'Twende Pamoja',\n",
       " 'Gwitembe',\n",
       " 'Makori',\n",
       " 'Sangea District Council',\n",
       " 'Unicef/central',\n",
       " 'Africa 2000 Network/undp',\n",
       " 'Mmanya Abdallah',\n",
       " 'Snv Ltd',\n",
       " 'Taes',\n",
       " 'Canada Aid',\n",
       " 'Senapa',\n",
       " 'Regwa Company Of Egypt',\n",
       " 'Water Se',\n",
       " 'Mamlaka Ya Maji Ngara',\n",
       " 'Wama',\n",
       " 'Prf',\n",
       " 'Church',\n",
       " 'Magadini Makiwaru Water',\n",
       " 'Kayempu Ltd',\n",
       " 'Trachoma',\n",
       " 'Seleman Rashid',\n",
       " 'Afriican Reli',\n",
       " 'Tassaf Ii',\n",
       " 'Samsoni',\n",
       " 'Quick Wings',\n",
       " 'Ngos',\n",
       " 'Kurrp Ki',\n",
       " 'Cast',\n",
       " 'Rudep/norad',\n",
       " 'Kwa Mzee Waziri',\n",
       " 'Panone',\n",
       " 'Lawate Fuka Water Suppl',\n",
       " 'St Gasper',\n",
       " 'Wug And Ded',\n",
       " 'Pr',\n",
       " 'Mmg Gold Mine',\n",
       " 'Nordic',\n",
       " 'Mchukwi Hos',\n",
       " 'Dwst',\n",
       " 'Serikaru',\n",
       " 'African Realief Committe Of Ku',\n",
       " 'Fao',\n",
       " 'Scott',\n",
       " 'Mzungu',\n",
       " 'Vttp',\n",
       " 'Vi',\n",
       " 'Irish Government',\n",
       " 'Namungo Miners',\n",
       " 'Nassor Fehed',\n",
       " 'Dbfpe',\n",
       " 'Clause',\n",
       " 'Busoga Trust',\n",
       " 'Mzee Mabena',\n",
       " 'Br',\n",
       " 'Brad',\n",
       " 'Koico',\n",
       " 'Healt',\n",
       " 'Ro',\n",
       " 'Jeshi Lawokovu',\n",
       " 'Paffect Mwanaindi',\n",
       " 'Tansi',\n",
       " 'Craelius',\n",
       " 'Apm[africa Precious Metals Lt',\n",
       " 'Zao Water Spring X',\n",
       " 'Shinyanga Shallow Wells',\n",
       " 'Cipro/care',\n",
       " 'Vifaf',\n",
       " 'Mtc',\n",
       " 'Lungwe',\n",
       " 'Dhinu',\n",
       " 'Aic Kij',\n",
       " 'Mataro',\n",
       " 'Dagida',\n",
       " 'Redap',\n",
       " 'Nwssp',\n",
       " 'Lench',\n",
       " 'Wanakijiji',\n",
       " 'Nk',\n",
       " 'Nimrodi Mkono[mb]',\n",
       " 'Maro',\n",
       " 'Professor Ben Ohio University',\n",
       " 'Rafael Michael',\n",
       " 'Tdrs',\n",
       " 'Bra',\n",
       " 'Suwasa',\n",
       " 'Twig',\n",
       " 'Tanzania Egypt Technical Co Op',\n",
       " 'Lifetime',\n",
       " 'Comunedi Roma',\n",
       " 'Unhcr/danida',\n",
       " 'Bread Of The Worl',\n",
       " 'Lutheran',\n",
       " 'Tasf',\n",
       " 'Rc Cathoric',\n",
       " 'Halmashauri Wil',\n",
       " 'Mgaya',\n",
       " 'Grail Mission Kiseki Bar',\n",
       " 'Answeer Muslim Grou',\n",
       " 'John Gileth',\n",
       " 'Care/dwe',\n",
       " 'Liuwassa',\n",
       " 'Ustawi',\n",
       " 'Nssf',\n",
       " 'Kilol',\n",
       " 'Nado',\n",
       " 'Judge Mchome',\n",
       " 'Minis',\n",
       " 'Milenia',\n",
       " 'Water User Group',\n",
       " 'Opec',\n",
       " 'Government /sda',\n",
       " 'Farm-africa',\n",
       " 'Bffs',\n",
       " 'Kyela-morogoro',\n",
       " 'Ggm',\n",
       " 'Msikitini',\n",
       " 'Kwik',\n",
       " 'Shelisheli Commission',\n",
       " 'Mungaya',\n",
       " 'Baptist Church',\n",
       " 'Tgts',\n",
       " 'Unknown',\n",
       " 'Ndorobo Tours',\n",
       " 'Zaben',\n",
       " 'Serikali Ya Kijiji',\n",
       " 'Enyueti',\n",
       " 'Watu Wa Marekani',\n",
       " 'Regina Group',\n",
       " 'Snv-swash',\n",
       " 'Seram',\n",
       " 'Lcdg',\n",
       " 'Adap',\n",
       " 'Laizer',\n",
       " 'African Barrick Gold',\n",
       " 'Salehe',\n",
       " 'Jumanne',\n",
       " 'Masai Land',\n",
       " 'Jipa',\n",
       " 'S. Kumar',\n",
       " 'Hpa',\n",
       " 'Mp Mzeru',\n",
       " 'W.D &',\n",
       " 'Wafidhi Wa Ziwa T',\n",
       " 'Matimbwa Sec',\n",
       " \"Lee Kang Pyung's Family\",\n",
       " 'Rwsssp',\n",
       " 'Rural Drinking Water Supply',\n",
       " 'Mhoranzi',\n",
       " 'Woyege',\n",
       " 'Quick Win Project',\n",
       " 'Muslimu Society(shia)',\n",
       " 'Morovian Church',\n",
       " 'Grazie Franco Lucchini',\n",
       " 'Pankrasi',\n",
       " 'Irevea Sister Water',\n",
       " 'Unesco',\n",
       " 'Iucn',\n",
       " 'Kdc',\n",
       " ...]"
      ]
     },
     "execution_count": 25,
     "metadata": {},
     "output_type": "execute_result"
    }
   ],
   "source": [
    "list(df[\"funder\"].unique())"
   ]
  },
  {
   "cell_type": "markdown",
   "metadata": {},
   "source": [
    "As with the \"installer\" column, we do not have the time or resources to parse through the messy data in this column. As such, we'll drop this one as well."
   ]
  },
  {
   "cell_type": "code",
   "execution_count": 26,
   "metadata": {},
   "outputs": [],
   "source": [
    "drop_columns.append(\"funder\")"
   ]
  },
  {
   "cell_type": "code",
   "execution_count": 27,
   "metadata": {},
   "outputs": [
    {
     "name": "stdout",
     "output_type": "stream",
     "text": [
      "vwc                 40507\n",
      "wug                  6515\n",
      "water board          2933\n",
      "wua                  2535\n",
      "private operator     1971\n",
      "parastatal           1768\n",
      "water authority       904\n",
      "other                 844\n",
      "company               685\n",
      "unknown               561\n",
      "other - school         99\n",
      "trust                  78\n",
      "Name: management, dtype: int64\n",
      "-----------------------------\n",
      "user-group    52490\n",
      "commercial     3638\n",
      "parastatal     1768\n",
      "other           943\n",
      "unknown         561\n",
      "Name: management_group, dtype: int64\n"
     ]
    }
   ],
   "source": [
    "print(df[\"management\"].value_counts())\n",
    "\n",
    "print('-----------------------------')\n",
    "\n",
    "print(df['management_group'].value_counts())"
   ]
  },
  {
   "cell_type": "markdown",
   "metadata": {},
   "source": [
    "These columns, which explore the same concept with differing levels of specificity, are not well-defined in our source material. Barring understanding of these terms and acronyms, we'll have to drop them from our model - we will not be able to describe them intelligently without additonal information. As such, these will also be dropped from our model."
   ]
  },
  {
   "cell_type": "code",
   "execution_count": 28,
   "metadata": {},
   "outputs": [],
   "source": [
    "drop_columns.extend([\"management\", \"management_group\"])"
   ]
  },
  {
   "cell_type": "code",
   "execution_count": 29,
   "metadata": {
    "scrolled": true
   },
   "outputs": [
    {
     "data": {
      "text/plain": [
       "3056"
      ]
     },
     "execution_count": 29,
     "metadata": {},
     "output_type": "execute_result"
    }
   ],
   "source": [
    "df[\"permit\"].isna().sum()"
   ]
  },
  {
   "cell_type": "code",
   "execution_count": 30,
   "metadata": {},
   "outputs": [
    {
     "data": {
      "text/plain": [
       "True     38852\n",
       "False    17492\n",
       "Name: permit, dtype: int64"
      ]
     },
     "execution_count": 30,
     "metadata": {},
     "output_type": "execute_result"
    }
   ],
   "source": [
    "df[\"permit\"].value_counts()"
   ]
  },
  {
   "cell_type": "markdown",
   "metadata": {},
   "source": [
    "Due to the large amount of null values here, we're going to drop this column."
   ]
  },
  {
   "cell_type": "code",
   "execution_count": 31,
   "metadata": {},
   "outputs": [],
   "source": [
    "drop_columns.append(\"permit\")"
   ]
  },
  {
   "cell_type": "markdown",
   "metadata": {},
   "source": [
    "## Columns With Similar Descriptions"
   ]
  },
  {
   "cell_type": "markdown",
   "metadata": {},
   "source": [
    "We have a large number of columns indicating the location of the wells. Let's look at them all:"
   ]
  },
  {
   "cell_type": "code",
   "execution_count": 32,
   "metadata": {
    "scrolled": true
   },
   "outputs": [
    {
     "name": "stdout",
     "output_type": "stream",
     "text": [
      "11    5300\n",
      "17    5011\n",
      "12    4639\n",
      "3     4379\n",
      "5     4040\n",
      "18    3324\n",
      "19    3047\n",
      "2     3024\n",
      "16    2816\n",
      "10    2640\n",
      "4     2513\n",
      "1     2201\n",
      "13    2093\n",
      "14    1979\n",
      "20    1969\n",
      "15    1808\n",
      "6     1609\n",
      "21    1583\n",
      "80    1238\n",
      "60    1025\n",
      "90     917\n",
      "7      805\n",
      "99     423\n",
      "9      390\n",
      "24     326\n",
      "8      300\n",
      "40       1\n",
      "Name: region_code, dtype: int64\n",
      "-----------------------------\n",
      "1     12203\n",
      "2     11173\n",
      "3      9998\n",
      "4      8999\n",
      "5      4356\n",
      "6      4074\n",
      "7      3343\n",
      "8      1043\n",
      "30      995\n",
      "33      874\n",
      "53      745\n",
      "43      505\n",
      "13      391\n",
      "23      293\n",
      "63      195\n",
      "62      109\n",
      "60       63\n",
      "0        23\n",
      "80       12\n",
      "67        6\n",
      "Name: district_code, dtype: int64\n"
     ]
    }
   ],
   "source": [
    "print(df[\"region_code\"].value_counts())\n",
    "\n",
    "print('-----------------------------')\n",
    "\n",
    "print(df['district_code'].value_counts())"
   ]
  },
  {
   "cell_type": "markdown",
   "metadata": {},
   "source": [
    "With no documentation of what these numbers correspond to, we'll need to drop these columns."
   ]
  },
  {
   "cell_type": "code",
   "execution_count": 33,
   "metadata": {},
   "outputs": [],
   "source": [
    "drop_columns.extend([\"region_code\", \"district_code\"])"
   ]
  },
  {
   "cell_type": "markdown",
   "metadata": {},
   "source": [
    " Let's explore the other location descriptions."
   ]
  },
  {
   "cell_type": "code",
   "execution_count": 34,
   "metadata": {},
   "outputs": [
    {
     "name": "stdout",
     "output_type": "stream",
     "text": [
      "Lake Victoria              10248\n",
      "Pangani                     8940\n",
      "Rufiji                      7976\n",
      "Internal                    7785\n",
      "Lake Tanganyika             6432\n",
      "Wami / Ruvu                 5987\n",
      "Lake Nyasa                  5085\n",
      "Ruvuma / Southern Coast     4493\n",
      "Lake Rukwa                  2454\n",
      "Name: basin, dtype: int64\n",
      "-----------------------------\n",
      "Madukani       508\n",
      "Shuleni        506\n",
      "Majengo        502\n",
      "Kati           373\n",
      "Mtakuja        262\n",
      "              ... \n",
      "Laghanga         1\n",
      "Konyeki          1\n",
      "Mponda           1\n",
      "Mwalubandwa      1\n",
      "Sareni           1\n",
      "Name: subvillage, Length: 19287, dtype: int64\n",
      "-----------------------------\n",
      "Iringa           5294\n",
      "Shinyanga        4982\n",
      "Mbeya            4639\n",
      "Kilimanjaro      4379\n",
      "Morogoro         4006\n",
      "Arusha           3350\n",
      "Kagera           3316\n",
      "Mwanza           3102\n",
      "Kigoma           2816\n",
      "Ruvuma           2640\n",
      "Pwani            2635\n",
      "Tanga            2547\n",
      "Dodoma           2201\n",
      "Singida          2093\n",
      "Mara             1969\n",
      "Tabora           1959\n",
      "Rukwa            1808\n",
      "Mtwara           1730\n",
      "Manyara          1583\n",
      "Lindi            1546\n",
      "Dar es Salaam     805\n",
      "Name: region, dtype: int64\n",
      "-----------------------------\n",
      "Njombe          2503\n",
      "Arusha Rural    1252\n",
      "Moshi Rural     1251\n",
      "Bariadi         1177\n",
      "Rungwe          1106\n",
      "                ... \n",
      "Moshi Urban       79\n",
      "Kigoma Urban      71\n",
      "Arusha Urban      63\n",
      "Lindi Urban       21\n",
      "Nyamagana          1\n",
      "Name: lga, Length: 125, dtype: int64\n",
      "-----------------------------\n",
      "Igosi        307\n",
      "Imalinyi     252\n",
      "Siha Kati    232\n",
      "Mdandu       231\n",
      "Nduruma      217\n",
      "            ... \n",
      "Mawenzi        1\n",
      "Kapilula       1\n",
      "Mkumbi         1\n",
      "Rasbura        1\n",
      "Thawi          1\n",
      "Name: ward, Length: 2092, dtype: int64\n"
     ]
    }
   ],
   "source": [
    "print(df['basin'].value_counts())\n",
    "\n",
    "print('-----------------------------')\n",
    "\n",
    "print(df['subvillage'].value_counts())\n",
    "\n",
    "print('-----------------------------')\n",
    "\n",
    "print(df['region'].value_counts())\n",
    "\n",
    "print('-----------------------------')\n",
    "\n",
    "print(df['lga'].value_counts())\n",
    "\n",
    "print('-----------------------------')\n",
    "\n",
    "print(df['ward'].value_counts())"
   ]
  },
  {
   "cell_type": "markdown",
   "metadata": {},
   "source": [
    "Given these are describing the same thing (the location) with varrying levels of specificity, we'll need to narrow these down to a single column.\n",
    "\n",
    "Based on background research, while the subvillages are the most specific of the location data, they are rather unweildy; many cannot be found by a google search. As such, we'll use the slightly less-specific, but more wieldy \"ward\" column.\n",
    "\n",
    "Coordinates for individual wells are also given; as we do not have tools to work with these meaningfully, we'll drop them from the set."
   ]
  },
  {
   "cell_type": "code",
   "execution_count": 35,
   "metadata": {},
   "outputs": [],
   "source": [
    "drop_columns.extend([\"lga\", \"latitude\", \"longitude\", \"subvillage\", \"region\", \"basin\"])"
   ]
  },
  {
   "cell_type": "markdown",
   "metadata": {},
   "source": [
    "There are a number of pairs or small groups of columns with identical descriptions, similar to the location. Let's look through them; we'll be keeping the most specific columns."
   ]
  },
  {
   "cell_type": "code",
   "execution_count": 36,
   "metadata": {},
   "outputs": [
    {
     "name": "stdout",
     "output_type": "stream",
     "text": [
      "soft                  50818\n",
      "salty                  4856\n",
      "unknown                1876\n",
      "milky                   804\n",
      "coloured                490\n",
      "salty abandoned         339\n",
      "fluoride                200\n",
      "fluoride abandoned       17\n",
      "Name: water_quality, dtype: int64\n",
      "-----------------------------\n",
      "good        50818\n",
      "salty        5195\n",
      "unknown      1876\n",
      "milky         804\n",
      "colored       490\n",
      "fluoride      217\n",
      "Name: quality_group, dtype: int64\n"
     ]
    }
   ],
   "source": [
    "print(df['water_quality'].value_counts())\n",
    "\n",
    "print('-----------------------------')\n",
    "\n",
    "print(df['quality_group'].value_counts())"
   ]
  },
  {
   "cell_type": "markdown",
   "metadata": {},
   "source": [
    "The two have almost identical data; the main difference is the division of the \"salty abandoned\" and \"flouride abandoned\" columns in the water_quality column. We'll drop this column in favor of the water_quality column."
   ]
  },
  {
   "cell_type": "code",
   "execution_count": 37,
   "metadata": {},
   "outputs": [],
   "source": [
    "drop_columns.append(\"quality_group\")"
   ]
  },
  {
   "cell_type": "markdown",
   "metadata": {},
   "source": [
    "Similarly, quantity and quantity_group also have identical descriptions."
   ]
  },
  {
   "cell_type": "code",
   "execution_count": 38,
   "metadata": {},
   "outputs": [
    {
     "name": "stdout",
     "output_type": "stream",
     "text": [
      "enough          33186\n",
      "insufficient    15129\n",
      "dry              6246\n",
      "seasonal         4050\n",
      "unknown           789\n",
      "Name: quantity, dtype: int64\n",
      "-----------------------------\n",
      "enough          33186\n",
      "insufficient    15129\n",
      "dry              6246\n",
      "seasonal         4050\n",
      "unknown           789\n",
      "Name: quantity_group, dtype: int64\n"
     ]
    }
   ],
   "source": [
    "print(df['quantity'].value_counts())\n",
    "\n",
    "print('-----------------------------')\n",
    "\n",
    "print(df['quantity_group'].value_counts())"
   ]
  },
  {
   "cell_type": "markdown",
   "metadata": {},
   "source": [
    "These are identical, so we'll arbitrarily drop quantity_group."
   ]
  },
  {
   "cell_type": "code",
   "execution_count": 39,
   "metadata": {},
   "outputs": [],
   "source": [
    "drop_columns.append(\"quantity_group\")"
   ]
  },
  {
   "cell_type": "code",
   "execution_count": 40,
   "metadata": {},
   "outputs": [
    {
     "name": "stdout",
     "output_type": "stream",
     "text": [
      "spring                  17021\n",
      "shallow well            16824\n",
      "machine dbh             11075\n",
      "river                    9612\n",
      "rainwater harvesting     2295\n",
      "hand dtw                  874\n",
      "lake                      765\n",
      "dam                       656\n",
      "other                     212\n",
      "unknown                    66\n",
      "Name: source, dtype: int64\n",
      "-----------------------------\n",
      "spring                  17021\n",
      "shallow well            16824\n",
      "borehole                11949\n",
      "river/lake              10377\n",
      "rainwater harvesting     2295\n",
      "dam                       656\n",
      "other                     278\n",
      "Name: source_type, dtype: int64\n"
     ]
    }
   ],
   "source": [
    "print(df['source'].value_counts())\n",
    "\n",
    "print('-----------------------------')\n",
    "\n",
    "print(df['source_type'].value_counts())"
   ]
  },
  {
   "cell_type": "markdown",
   "metadata": {},
   "source": [
    "We'll keep source since it distinguishes a handful of values that are grouped together in from source_type:\n",
    "   1. \"other\" is split into \"other\" and \"unknown\" \n",
    "   2. \"river/lake\" is split into \"river\" and \"lake\"\n",
    "   3. \"borehole\" is split into \"hand dtw\" and \"machine dbh\""
   ]
  },
  {
   "cell_type": "code",
   "execution_count": 41,
   "metadata": {},
   "outputs": [],
   "source": [
    "drop_columns.append(\"source_type\")"
   ]
  },
  {
   "cell_type": "code",
   "execution_count": 42,
   "metadata": {},
   "outputs": [
    {
     "name": "stdout",
     "output_type": "stream",
     "text": [
      "communal standpipe             28522\n",
      "hand pump                      17488\n",
      "other                           6380\n",
      "communal standpipe multiple     6103\n",
      "improved spring                  784\n",
      "cattle trough                    116\n",
      "dam                                7\n",
      "Name: waterpoint_type, dtype: int64\n",
      "-----------------------------\n",
      "communal standpipe    34625\n",
      "hand pump             17488\n",
      "other                  6380\n",
      "improved spring         784\n",
      "cattle trough           116\n",
      "dam                       7\n",
      "Name: waterpoint_type_group, dtype: int64\n"
     ]
    }
   ],
   "source": [
    "print(df['waterpoint_type'].value_counts())\n",
    "\n",
    "print('-----------------------------')\n",
    "\n",
    "print(df['waterpoint_type_group'].value_counts())"
   ]
  },
  {
   "cell_type": "markdown",
   "metadata": {},
   "source": [
    "We'll keep the more specific classifications of waterpoint_type. "
   ]
  },
  {
   "cell_type": "code",
   "execution_count": 43,
   "metadata": {},
   "outputs": [],
   "source": [
    "drop_columns.append(\"waterpoint_type_group\")"
   ]
  },
  {
   "cell_type": "code",
   "execution_count": 44,
   "metadata": {
    "scrolled": true
   },
   "outputs": [
    {
     "name": "stdout",
     "output_type": "stream",
     "text": [
      "gravity                      26780\n",
      "nira/tanira                   8154\n",
      "other                         6430\n",
      "submersible                   4764\n",
      "swn 80                        3670\n",
      "mono                          2865\n",
      "india mark ii                 2400\n",
      "afridev                       1770\n",
      "ksb                           1415\n",
      "other - rope pump              451\n",
      "other - swn 81                 229\n",
      "windmill                       117\n",
      "india mark iii                  98\n",
      "cemo                            90\n",
      "other - play pump               85\n",
      "walimi                          48\n",
      "climax                          32\n",
      "other - mkulima/shinyanga        2\n",
      "Name: extraction_type, dtype: int64\n",
      "-----------------------------\n",
      "gravity            26780\n",
      "nira/tanira         8154\n",
      "other               6430\n",
      "submersible         6179\n",
      "swn 80              3670\n",
      "mono                2865\n",
      "india mark ii       2400\n",
      "afridev             1770\n",
      "rope pump            451\n",
      "other handpump       364\n",
      "other motorpump      122\n",
      "wind-powered         117\n",
      "india mark iii        98\n",
      "Name: extraction_type_group, dtype: int64\n",
      "-----------------------------\n",
      "gravity         26780\n",
      "handpump        16456\n",
      "other            6430\n",
      "submersible      6179\n",
      "motorpump        2987\n",
      "rope pump         451\n",
      "wind-powered      117\n",
      "Name: extraction_type_class, dtype: int64\n"
     ]
    }
   ],
   "source": [
    "print(df['extraction_type'].value_counts())\n",
    "\n",
    "print('-----------------------------')\n",
    "\n",
    "print(df['extraction_type_group'].value_counts())\n",
    "\n",
    "print('-----------------------------')\n",
    "\n",
    "print(df['extraction_type_class'].value_counts())"
   ]
  },
  {
   "cell_type": "markdown",
   "metadata": {},
   "source": [
    "The most specific column is extraction_type; we'll drop the other two."
   ]
  },
  {
   "cell_type": "code",
   "execution_count": 45,
   "metadata": {},
   "outputs": [],
   "source": [
    "drop_columns.extend([\"extraction_type_group\", \"extraction_type_class\"])"
   ]
  },
  {
   "cell_type": "code",
   "execution_count": 46,
   "metadata": {},
   "outputs": [
    {
     "name": "stdout",
     "output_type": "stream",
     "text": [
      "never pay                25348\n",
      "pay per bucket            8985\n",
      "pay monthly               8300\n",
      "unknown                   8157\n",
      "pay when scheme fails     3914\n",
      "pay annually              3642\n",
      "other                     1054\n",
      "Name: payment, dtype: int64\n",
      "-----------------------------\n",
      "never pay     25348\n",
      "per bucket     8985\n",
      "monthly        8300\n",
      "unknown        8157\n",
      "on failure     3914\n",
      "annually       3642\n",
      "other          1054\n",
      "Name: payment_type, dtype: int64\n"
     ]
    }
   ],
   "source": [
    "print(df['payment'].value_counts())\n",
    "\n",
    "print('-----------------------------')\n",
    "\n",
    "print(df['payment_type'].value_counts())"
   ]
  },
  {
   "cell_type": "markdown",
   "metadata": {},
   "source": [
    "These two are identical except for having slightly different naming conventions, so we'll arbitrarily drop payment_type."
   ]
  },
  {
   "cell_type": "code",
   "execution_count": 47,
   "metadata": {},
   "outputs": [],
   "source": [
    "drop_columns.append(\"payment_type\")"
   ]
  },
  {
   "cell_type": "markdown",
   "metadata": {},
   "source": [
    "## Columns with Missing Values"
   ]
  },
  {
   "cell_type": "code",
   "execution_count": 48,
   "metadata": {},
   "outputs": [
    {
     "data": {
      "text/plain": [
       "0       20709\n",
       "2010     2645\n",
       "2008     2613\n",
       "2009     2533\n",
       "2000     2091\n",
       "Name: construction_year, dtype: int64"
      ]
     },
     "execution_count": 48,
     "metadata": {},
     "output_type": "execute_result"
    }
   ],
   "source": [
    "df['construction_year'].value_counts().head()"
   ]
  },
  {
   "cell_type": "markdown",
   "metadata": {},
   "source": [
    "This column is missing nearly half its values, so we'll drop it."
   ]
  },
  {
   "cell_type": "code",
   "execution_count": 49,
   "metadata": {},
   "outputs": [],
   "source": [
    "drop_columns.append(\"construction_year\")"
   ]
  },
  {
   "cell_type": "code",
   "execution_count": 50,
   "metadata": {},
   "outputs": [
    {
     "data": {
      "text/plain": [
       "0      21381\n",
       "1       7025\n",
       "200     1940\n",
       "150     1892\n",
       "250     1681\n",
       "Name: population, dtype: int64"
      ]
     },
     "execution_count": 50,
     "metadata": {},
     "output_type": "execute_result"
    }
   ],
   "source": [
    "df['population'].value_counts().head()"
   ]
  },
  {
   "cell_type": "markdown",
   "metadata": {},
   "source": [
    "This is also a large number of missing values; additionally, there are a large number of populations of \"1\" which are highly implausible. Futher, the area the population number refers to is unclear. We'll drop this column as well."
   ]
  },
  {
   "cell_type": "code",
   "execution_count": 51,
   "metadata": {},
   "outputs": [],
   "source": [
    "drop_columns.append(\"population\")"
   ]
  },
  {
   "cell_type": "code",
   "execution_count": 52,
   "metadata": {},
   "outputs": [
    {
     "data": {
      "text/plain": [
       "0.0         41639\n",
       "500.0        3102\n",
       "50.0         2472\n",
       "1000.0       1488\n",
       "20.0         1463\n",
       "            ...  \n",
       "8500.0          1\n",
       "6300.0          1\n",
       "220.0           1\n",
       "138000.0        1\n",
       "12.0            1\n",
       "Name: amount_tsh, Length: 98, dtype: int64"
      ]
     },
     "execution_count": 52,
     "metadata": {},
     "output_type": "execute_result"
    }
   ],
   "source": [
    "df[\"amount_tsh\"].value_counts()"
   ]
  },
  {
   "cell_type": "code",
   "execution_count": 53,
   "metadata": {},
   "outputs": [
    {
     "data": {
      "text/plain": [
       "functional                 19706\n",
       "non functional             18885\n",
       "functional needs repair     3048\n",
       "Name: status_group, dtype: int64"
      ]
     },
     "execution_count": 53,
     "metadata": {},
     "output_type": "execute_result"
    }
   ],
   "source": [
    "df.loc[df[\"amount_tsh\"] == 0][\"status_group\"].value_counts()"
   ]
  },
  {
   "cell_type": "markdown",
   "metadata": {},
   "source": [
    "Interestingly, we have a large number of wells that supposedly have no available water, yet over half of them are listed as being functional. Given the rest of the dataset often uses 0 in place of unknown values, this column seems unreliable. As such, we'll have to drop this column."
   ]
  },
  {
   "cell_type": "code",
   "execution_count": 54,
   "metadata": {},
   "outputs": [],
   "source": [
    "drop_columns.append(\"amount_tsh\")"
   ]
  },
  {
   "cell_type": "code",
   "execution_count": 55,
   "metadata": {
    "scrolled": false
   },
   "outputs": [
    {
     "data": {
      "text/plain": [
       " 0       20438\n",
       "-15         60\n",
       "-16         55\n",
       "-13         55\n",
       "-20         52\n",
       "         ...  \n",
       " 2285        1\n",
       " 2424        1\n",
       " 2552        1\n",
       " 2413        1\n",
       " 2385        1\n",
       "Name: gps_height, Length: 2428, dtype: int64"
      ]
     },
     "execution_count": 55,
     "metadata": {},
     "output_type": "execute_result"
    }
   ],
   "source": [
    "df[\"gps_height\"].value_counts()"
   ]
  },
  {
   "cell_type": "markdown",
   "metadata": {},
   "source": [
    "Similarly to amount_tsh, we don't have a good way to work around which values of 0 are authentic and which are actually nulls. As such, while this feature could be interesting, we'll have to drop it."
   ]
  },
  {
   "cell_type": "code",
   "execution_count": 56,
   "metadata": {},
   "outputs": [],
   "source": [
    "drop_columns.append(\"gps_height\")"
   ]
  },
  {
   "cell_type": "code",
   "execution_count": 57,
   "metadata": {},
   "outputs": [
    {
     "name": "stdout",
     "output_type": "stream",
     "text": [
      "3877\n",
      "-----------------------------\n",
      "28166\n"
     ]
    }
   ],
   "source": [
    "print(df[\"scheme_management\"].isna().sum())\n",
    "\n",
    "print('-----------------------------')\n",
    "\n",
    "print(df['scheme_name'].isna().sum())"
   ]
  },
  {
   "cell_type": "markdown",
   "metadata": {},
   "source": [
    "Due to having so many nulls in a categorical variable, we'll have to delete these columns."
   ]
  },
  {
   "cell_type": "code",
   "execution_count": 58,
   "metadata": {},
   "outputs": [],
   "source": [
    "drop_columns.extend([\"scheme_management\", \"scheme_name\"])"
   ]
  },
  {
   "cell_type": "code",
   "execution_count": 59,
   "metadata": {
    "scrolled": true
   },
   "outputs": [],
   "source": [
    "df_clean = df.drop(columns=drop_columns)"
   ]
  },
  {
   "cell_type": "code",
   "execution_count": 60,
   "metadata": {},
   "outputs": [
    {
     "data": {
      "text/plain": [
       "(59400, 9)"
      ]
     },
     "execution_count": 60,
     "metadata": {},
     "output_type": "execute_result"
    }
   ],
   "source": [
    "df_clean.shape"
   ]
  },
  {
   "cell_type": "markdown",
   "metadata": {},
   "source": [
    "## Preprocessing Data"
   ]
  },
  {
   "cell_type": "code",
   "execution_count": 61,
   "metadata": {},
   "outputs": [
    {
     "data": {
      "text/plain": [
       "((44550, 8), (14850, 8))"
      ]
     },
     "execution_count": 61,
     "metadata": {},
     "output_type": "execute_result"
    }
   ],
   "source": [
    "#spliting train and test sets\n",
    "X = df_clean.drop(columns='status_group')\n",
    "y = df_clean['status_group']\n",
    "\n",
    "X_train, X_test, y_train, y_test  =  train_test_split(X, y,  random_state=40)\n",
    "\n",
    "X_train.shape, X_test.shape"
   ]
  },
  {
   "cell_type": "code",
   "execution_count": 62,
   "metadata": {},
   "outputs": [
    {
     "name": "stdout",
     "output_type": "stream",
     "text": [
      "(44550, 2144) (14850, 2144)\n"
     ]
    }
   ],
   "source": [
    "#one hot encoding features\n",
    "\n",
    "ohe = OneHotEncoder(handle_unknown='ignore')\n",
    "\n",
    "X_dummie_train = ohe.fit_transform(X_train)\n",
    "X_dummie_test = ohe.transform(X_test)\n",
    "\n",
    "print(X_dummie_train.shape, X_dummie_test.shape)"
   ]
  },
  {
   "cell_type": "code",
   "execution_count": 63,
   "metadata": {},
   "outputs": [],
   "source": [
    "#Encoding targets\n",
    "encoder = LabelEncoder()\n",
    "\n",
    "y_train_enc = encoder.fit_transform(y_train)\n",
    "y_test_enc = encoder.transform(y_test)"
   ]
  },
  {
   "cell_type": "code",
   "execution_count": 64,
   "metadata": {
    "scrolled": true
   },
   "outputs": [
    {
     "data": {
      "text/plain": [
       "functional                 24159\n",
       "non functional             17186\n",
       "functional needs repair     3205\n",
       "Name: status_group, dtype: int64"
      ]
     },
     "execution_count": 64,
     "metadata": {},
     "output_type": "execute_result"
    }
   ],
   "source": [
    "#Checking for imbalance in our target variable\n",
    "\n",
    "y_train.value_counts(normalize=False)"
   ]
  },
  {
   "cell_type": "markdown",
   "metadata": {},
   "source": [
    "Because there is a strong imbalance, particularly with the \"functional needs repair\" group, we're going to use SMOTE before modeling."
   ]
  },
  {
   "cell_type": "code",
   "execution_count": 65,
   "metadata": {},
   "outputs": [],
   "source": [
    "sm = SMOTE(sampling_strategy='auto', random_state=42)\n",
    "\n",
    "X_train_resample, y_train_resample = sm.fit_resample(X_dummie_train, y_train_enc)"
   ]
  },
  {
   "cell_type": "markdown",
   "metadata": {},
   "source": [
    "# Data Modeling\n",
    "\n",
    "Our initial dummy model was a standard most_frequent strategy, which gave us an accuracy of around 54% on both our training and testing data.\n",
    "\n",
    "We started with a decision tree model, which returned an accuracy of 90% on our training data and 82% on our test data. To address the overfitting, we performed a series of random forest and gridsearches, identifying hyperparameters that would improve the model's performance on unseen data. We looked for the accuracy column because we were equally interested in correctly identifying all three states of functionality: we were not specifically seeking out any one type of well.\n",
    "\n",
    "Ultimately, our final model returned an accuracy of PERCENT on testing data."
   ]
  },
  {
   "cell_type": "markdown",
   "metadata": {},
   "source": [
    "## Dummie Model"
   ]
  },
  {
   "cell_type": "code",
   "execution_count": 66,
   "metadata": {},
   "outputs": [],
   "source": [
    "dummy_clf = DummyClassifier()"
   ]
  },
  {
   "cell_type": "code",
   "execution_count": 67,
   "metadata": {},
   "outputs": [
    {
     "data": {
      "text/plain": [
       "0.5422895622895623"
      ]
     },
     "execution_count": 67,
     "metadata": {},
     "output_type": "execute_result"
    }
   ],
   "source": [
    "# For a dummie model, there's no need to use the SMOTE data\n",
    "\n",
    "dummy_clf = DummyClassifier(strategy='most_frequent')\n",
    "dummy_clf.fit(X_train_resample, y_train_resample)\n",
    "\n",
    "dummy_clf.score(X_dummie_train, y_train_enc)"
   ]
  },
  {
   "cell_type": "code",
   "execution_count": 68,
   "metadata": {
    "scrolled": true
   },
   "outputs": [
    {
     "data": {
      "text/plain": [
       "0.5454545454545454"
      ]
     },
     "execution_count": 68,
     "metadata": {},
     "output_type": "execute_result"
    }
   ],
   "source": [
    "dummy_clf.score(X_dummie_test, y_test_enc)"
   ]
  },
  {
   "cell_type": "markdown",
   "metadata": {},
   "source": [
    "## Decision Tree"
   ]
  },
  {
   "cell_type": "code",
   "execution_count": 69,
   "metadata": {},
   "outputs": [
    {
     "data": {
      "text/plain": [
       "DecisionTreeClassifier(random_state=42)"
      ]
     },
     "execution_count": 69,
     "metadata": {},
     "output_type": "execute_result"
    }
   ],
   "source": [
    "Simple_tree = DecisionTreeClassifier(random_state=42)\n",
    "\n",
    "Simple_tree.fit(X_train_resample, y_train_resample)"
   ]
  },
  {
   "cell_type": "code",
   "execution_count": 70,
   "metadata": {},
   "outputs": [],
   "source": [
    "cv_results = cross_validate(\n",
    "                    estimator=Simple_tree,\n",
    "                    X=X_train_resample,\n",
    "                    y=y_train_resample,\n",
    "                    cv=10,\n",
    "                    return_train_score=True, \n",
    "                    n_jobs=-2)"
   ]
  },
  {
   "cell_type": "code",
   "execution_count": 71,
   "metadata": {},
   "outputs": [
    {
     "data": {
      "text/plain": [
       "0.9015243322980604"
      ]
     },
     "execution_count": 71,
     "metadata": {},
     "output_type": "execute_result"
    }
   ],
   "source": [
    "cv_results['train_score'].mean()"
   ]
  },
  {
   "cell_type": "code",
   "execution_count": 72,
   "metadata": {},
   "outputs": [
    {
     "data": {
      "text/plain": [
       "0.8251184360065563"
      ]
     },
     "execution_count": 72,
     "metadata": {},
     "output_type": "execute_result"
    }
   ],
   "source": [
    "cv_results['test_score'].mean()"
   ]
  },
  {
   "cell_type": "markdown",
   "metadata": {},
   "source": [
    "Our initial decision tree is okay, but is definitely overfit."
   ]
  },
  {
   "cell_type": "markdown",
   "metadata": {},
   "source": [
    "## Random Forest"
   ]
  },
  {
   "cell_type": "code",
   "execution_count": 73,
   "metadata": {},
   "outputs": [
    {
     "data": {
      "text/plain": [
       "RandomForestClassifier(random_state=42)"
      ]
     },
     "execution_count": 73,
     "metadata": {},
     "output_type": "execute_result"
    }
   ],
   "source": [
    "RF_cls = RandomForestClassifier(random_state=42)\n",
    "\n",
    "RF_cls.fit(X_train_resample, y_train_resample)"
   ]
  },
  {
   "cell_type": "code",
   "execution_count": 74,
   "metadata": {},
   "outputs": [
    {
     "data": {
      "text/plain": [
       "0.9001062406004664"
      ]
     },
     "execution_count": 74,
     "metadata": {},
     "output_type": "execute_result"
    }
   ],
   "source": [
    "RF_cls.score(X_train_resample, y_train_resample)"
   ]
  },
  {
   "cell_type": "code",
   "execution_count": 75,
   "metadata": {},
   "outputs": [],
   "source": [
    "cv_results = cross_validate(\n",
    "                    estimator=RF_cls,\n",
    "                    X=X_train_resample,\n",
    "                    y=y_train_resample,\n",
    "                    cv=10,\n",
    "                    return_train_score=True, \n",
    "                    n_jobs=-2)"
   ]
  },
  {
   "cell_type": "code",
   "execution_count": 76,
   "metadata": {},
   "outputs": [
    {
     "data": {
      "text/plain": [
       "0.901509001717077"
      ]
     },
     "execution_count": 76,
     "metadata": {},
     "output_type": "execute_result"
    }
   ],
   "source": [
    "cv_results['train_score'].mean()"
   ]
  },
  {
   "cell_type": "code",
   "execution_count": 77,
   "metadata": {
    "scrolled": true
   },
   "outputs": [
    {
     "data": {
      "text/plain": [
       "0.8378672487146238"
      ]
     },
     "execution_count": 77,
     "metadata": {},
     "output_type": "execute_result"
    }
   ],
   "source": [
    "cv_results['test_score'].mean()"
   ]
  },
  {
   "cell_type": "markdown",
   "metadata": {},
   "source": [
    "We're getting an overfit model here as well, only marginally better than our decision tree. Let's investigate further."
   ]
  },
  {
   "cell_type": "markdown",
   "metadata": {},
   "source": [
    "## RandomizedSearchCV\n",
    "\n",
    "<br>\n",
    "\n",
    "We'll use RandomizedSearch to look for random best parameters, and use them as starting point before gridsearching.\n",
    "\n",
    "As this is a computationally expensive process, the below code is not set to run. Our results are written below each cell in markdown."
   ]
  },
  {
   "cell_type": "code",
   "execution_count": 78,
   "metadata": {},
   "outputs": [],
   "source": [
    "grid_space={'bootstrap': [True, False], \n",
    "            'max_depth': [10, 20, 30, 40, 50, 60, 70, 80, 90, 100, None], \n",
    "            'max_features': ['auto', 'sqrt'], \n",
    "            'min_samples_leaf': [1, 2, 4], \n",
    "            'min_samples_split': [2, 5, 10], \n",
    "            'n_estimators': [200, 400, 600, 800, 1000, 1200, 1400, 1600, 1800, 2000]}"
   ]
  },
  {
   "cell_type": "code",
   "execution_count": 79,
   "metadata": {},
   "outputs": [],
   "source": [
    "# random_search = RandomizedSearchCV(estimator = RF_cls, \n",
    "#                                    param_distributions = grid_space, \n",
    "#                                    n_iter = 100, \n",
    "#                                    cv = 10, \n",
    "#                                    verbose=2, \n",
    "#                                    random_state=42, \n",
    "#                                    n_jobs = -2)\n",
    "\n",
    "\n",
    "# random_search.fit(X_train_resample, y_train_resample)"
   ]
  },
  {
   "cell_type": "markdown",
   "metadata": {},
   "source": [
    "RandomizedSearchCV(cv=10, estimator=RandomForestClassifier(random_state=42),\n",
    "\n",
    "                   n_iter=100, n_jobs=-2,\n",
    "                   param_distributions={'bootstrap': [True, False],\n",
    "                                        'max_depth': [10, 20, 30, 40, 50, 60,\n",
    "                                                      70, 80, 90, 100, None],\n",
    "                                        'max_features': ['auto', 'sqrt'],\n",
    "                                        'min_samples_leaf': [1, 2, 4],\n",
    "                                        'min_samples_split': [2, 5, 10],\n",
    "                                        'n_estimators': [200, 400, 600, 800,\n",
    "                                                         1000, 1200, 1400, 1600,\n",
    "                                                         1800, 2000]},\n",
    "                   random_state=42, verbose=2)"
   ]
  },
  {
   "cell_type": "code",
   "execution_count": 80,
   "metadata": {},
   "outputs": [],
   "source": [
    "# RandomizedSearchCV(cv=10, estimator=RandomForestClassifier(random_state=42),\n",
    "#                    n_iter=100, n_jobs=-2,\n",
    "#                    param_distributions={'bootstrap': [True, False],\n",
    "#                                         'max_depth': [10, 20, 30, 40, 50, 60,\n",
    "#                                                       70, 80, 90, 100, None],\n",
    "#                                         'max_features': ['auto', 'sqrt'],\n",
    "#                                         'min_samples_leaf': [1, 2, 4],\n",
    "#                                         'min_samples_split': [2, 5, 10],\n",
    "#                                         'n_estimators': [200, 400, 600, 800,\n",
    "#                                                          1000, 1200, 1400, 1600,\n",
    "#                                                          1800, 2000]},\n",
    "#                    random_state=42, verbose=2)"
   ]
  },
  {
   "cell_type": "code",
   "execution_count": 81,
   "metadata": {
    "scrolled": true
   },
   "outputs": [],
   "source": [
    "# random_search.best_estimator_"
   ]
  },
  {
   "cell_type": "markdown",
   "metadata": {},
   "source": [
    "RandomForestClassifier(bootstrap=False, max_features='sqrt', n_estimators=200,\n",
    "\n",
    "                        random_state=42)"
   ]
  },
  {
   "cell_type": "code",
   "execution_count": 82,
   "metadata": {},
   "outputs": [
    {
     "data": {
      "text/plain": [
       "RandomForestClassifier(bootstrap=False, max_features='sqrt', n_estimators=200,\n",
       "                       random_state=42)"
      ]
     },
     "execution_count": 82,
     "metadata": {},
     "output_type": "execute_result"
    }
   ],
   "source": [
    "RandomForestClassifier(bootstrap=False, max_features='sqrt', n_estimators=200,\n",
    "                        random_state=42)"
   ]
  },
  {
   "cell_type": "code",
   "execution_count": 83,
   "metadata": {},
   "outputs": [],
   "source": [
    "# random_search.best_score_"
   ]
  },
  {
   "cell_type": "markdown",
   "metadata": {},
   "source": [
    "0.8425446923154013"
   ]
  },
  {
   "cell_type": "code",
   "execution_count": 84,
   "metadata": {},
   "outputs": [],
   "source": [
    "# random_search.best_params_"
   ]
  },
  {
   "cell_type": "markdown",
   "metadata": {},
   "source": [
    "{'n_estimators': 200,\n",
    "\n",
    " 'min_samples_split': 2,\n",
    " \n",
    " 'min_samples_leaf': 1,\n",
    " \n",
    " 'max_features': 'sqrt',\n",
    " \n",
    " 'max_depth': None,\n",
    " \n",
    " 'bootstrap': False}"
   ]
  },
  {
   "cell_type": "code",
   "execution_count": 85,
   "metadata": {},
   "outputs": [],
   "source": [
    "# random_search.classes_"
   ]
  },
  {
   "cell_type": "markdown",
   "metadata": {},
   "source": [
    "array([0, 1, 2])"
   ]
  },
  {
   "cell_type": "code",
   "execution_count": 86,
   "metadata": {},
   "outputs": [],
   "source": [
    "# random_search.n_features_in_"
   ]
  },
  {
   "cell_type": "markdown",
   "metadata": {},
   "source": [
    "2144"
   ]
  },
  {
   "cell_type": "markdown",
   "metadata": {},
   "source": [
    "###### Built Random Forest model using best parameters from RandomSearch"
   ]
  },
  {
   "cell_type": "code",
   "execution_count": 87,
   "metadata": {},
   "outputs": [
    {
     "data": {
      "text/plain": [
       "RandomForestClassifier(bootstrap=False, max_features='sqrt', n_estimators=200,\n",
       "                       n_jobs=-2, random_state=42)"
      ]
     },
     "execution_count": 87,
     "metadata": {},
     "output_type": "execute_result"
    }
   ],
   "source": [
    "RF_cls2 = RandomForestClassifier(bootstrap=False, max_features='sqrt', n_estimators=200, \n",
    "                                 random_state=42, n_jobs=-2)\n",
    "\n",
    "RF_cls2.fit(X_train_resample, y_train_resample)"
   ]
  },
  {
   "cell_type": "code",
   "execution_count": 88,
   "metadata": {},
   "outputs": [
    {
     "data": {
      "text/plain": [
       "0.9001200380810463"
      ]
     },
     "execution_count": 88,
     "metadata": {},
     "output_type": "execute_result"
    }
   ],
   "source": [
    "RF_cls2.score(X_train_resample, y_train_resample)"
   ]
  },
  {
   "cell_type": "code",
   "execution_count": 89,
   "metadata": {},
   "outputs": [],
   "source": [
    "RF_cv = cross_validate(\n",
    "                    estimator=RF_cls2,\n",
    "                    X=X_train_resample,\n",
    "                    y=y_train_resample,\n",
    "                    cv=10,\n",
    "                    return_train_score=True, \n",
    "                    n_jobs=-2)"
   ]
  },
  {
   "cell_type": "code",
   "execution_count": 90,
   "metadata": {},
   "outputs": [
    {
     "data": {
      "text/plain": [
       "0.9015243322980604"
      ]
     },
     "execution_count": 90,
     "metadata": {},
     "output_type": "execute_result"
    }
   ],
   "source": [
    "RF_cv['train_score'].mean()"
   ]
  },
  {
   "cell_type": "code",
   "execution_count": 91,
   "metadata": {},
   "outputs": [
    {
     "data": {
      "text/plain": [
       "0.8425446923154013"
      ]
     },
     "execution_count": 91,
     "metadata": {},
     "output_type": "execute_result"
    }
   ],
   "source": [
    "RF_cv['test_score'].mean()"
   ]
  },
  {
   "cell_type": "markdown",
   "metadata": {},
   "source": [
    "This test score is, again, incrementally better than our previous models."
   ]
  },
  {
   "cell_type": "markdown",
   "metadata": {},
   "source": [
    "# GridSearchCV"
   ]
  },
  {
   "cell_type": "markdown",
   "metadata": {},
   "source": [
    "Now, we'll start tuning the given \"best-parameter\", and run a GridSearch with a small combination of them."
   ]
  },
  {
   "cell_type": "code",
   "execution_count": 92,
   "metadata": {},
   "outputs": [
    {
     "data": {
      "text/plain": [
       "\"\\nBest parameters\\n\\n\\n{'n_estimators': 200,\\n 'min_samples_split': 2,\\n 'min_samples_leaf': 1,\\n 'max_features': 'sqrt',\\n 'max_depth': None,\\n 'bootstrap': False}\\n \""
      ]
     },
     "execution_count": 92,
     "metadata": {},
     "output_type": "execute_result"
    }
   ],
   "source": [
    "\"\"\"\n",
    "Best parameters\n",
    "\n",
    "\n",
    "{'n_estimators': 200,\n",
    " 'min_samples_split': 2,\n",
    " 'min_samples_leaf': 1,\n",
    " 'max_features': 'sqrt',\n",
    " 'max_depth': None,\n",
    " 'bootstrap': False}\n",
    " \"\"\""
   ]
  },
  {
   "cell_type": "markdown",
   "metadata": {},
   "source": [
    "We'll try adjusting some of our variables and look for a possible improvement."
   ]
  },
  {
   "cell_type": "markdown",
   "metadata": {},
   "source": [
    "#### 1st GridSearchCV"
   ]
  },
  {
   "cell_type": "code",
   "execution_count": 93,
   "metadata": {},
   "outputs": [],
   "source": [
    "param_grid1 = {'bootstrap': [False],\n",
    "              'max_depth': [None], \n",
    "              'max_features': ['sqrt'], \n",
    "              'min_samples_leaf': [2, 3], \n",
    "              'min_samples_split': [3, 5], \n",
    "              'n_estimators': [150, 200, 250]}"
   ]
  },
  {
   "cell_type": "code",
   "execution_count": 94,
   "metadata": {},
   "outputs": [
    {
     "name": "stdout",
     "output_type": "stream",
     "text": [
      "Fitting 10 folds for each of 12 candidates, totalling 120 fits\n"
     ]
    },
    {
     "name": "stderr",
     "output_type": "stream",
     "text": [
      "[Parallel(n_jobs=-2)]: Using backend LokyBackend with 11 concurrent workers.\n",
      "[Parallel(n_jobs=-2)]: Done  19 tasks      | elapsed:  2.7min\n",
      "[Parallel(n_jobs=-2)]: Done 120 out of 120 | elapsed: 13.7min finished\n"
     ]
    },
    {
     "data": {
      "text/plain": [
       "GridSearchCV(cv=10, estimator=RandomForestClassifier(random_state=42),\n",
       "             n_jobs=-2,\n",
       "             param_grid={'bootstrap': [False], 'max_depth': [None],\n",
       "                         'max_features': ['sqrt'], 'min_samples_leaf': [2, 3],\n",
       "                         'min_samples_split': [3, 5],\n",
       "                         'n_estimators': [150, 200, 250]},\n",
       "             verbose=2)"
      ]
     },
     "execution_count": 94,
     "metadata": {},
     "output_type": "execute_result"
    }
   ],
   "source": [
    "grid_search = GridSearchCV(estimator = RF_cls, param_grid = param_grid1, \n",
    "                          cv = 10, n_jobs = -2, verbose = 2)\n",
    "\n",
    "grid_search.fit(X_train_resample, y_train_resample)"
   ]
  },
  {
   "cell_type": "code",
   "execution_count": 95,
   "metadata": {},
   "outputs": [
    {
     "data": {
      "text/plain": [
       "RandomForestClassifier(bootstrap=False, max_features='sqrt', min_samples_leaf=2,\n",
       "                       min_samples_split=3, n_estimators=250, random_state=42)"
      ]
     },
     "execution_count": 95,
     "metadata": {},
     "output_type": "execute_result"
    }
   ],
   "source": [
    "grid_search.best_estimator_"
   ]
  },
  {
   "cell_type": "code",
   "execution_count": 96,
   "metadata": {},
   "outputs": [
    {
     "data": {
      "text/plain": [
       "0.806311974719843"
      ]
     },
     "execution_count": 96,
     "metadata": {},
     "output_type": "execute_result"
    }
   ],
   "source": [
    "grid_search.best_score_"
   ]
  },
  {
   "cell_type": "markdown",
   "metadata": {},
   "source": [
    "This decreased our score; we'll try another combination of these parameters."
   ]
  },
  {
   "cell_type": "markdown",
   "metadata": {},
   "source": [
    "#### 2nd GridSearchCV"
   ]
  },
  {
   "cell_type": "code",
   "execution_count": 97,
   "metadata": {},
   "outputs": [],
   "source": [
    "param_grid2 = {'bootstrap': [False],\n",
    "              'max_depth': [None], \n",
    "              'max_features': ['sqrt'], \n",
    "              'min_samples_leaf': [3, 4], \n",
    "              'min_samples_split': [4, 6], \n",
    "              'n_estimators': [200, 250, 300]}"
   ]
  },
  {
   "cell_type": "code",
   "execution_count": 98,
   "metadata": {},
   "outputs": [
    {
     "name": "stdout",
     "output_type": "stream",
     "text": [
      "Fitting 10 folds for each of 12 candidates, totalling 120 fits\n"
     ]
    },
    {
     "name": "stderr",
     "output_type": "stream",
     "text": [
      "[Parallel(n_jobs=-2)]: Using backend LokyBackend with 11 concurrent workers.\n",
      "[Parallel(n_jobs=-2)]: Done  19 tasks      | elapsed:  2.4min\n",
      "[Parallel(n_jobs=-2)]: Done 120 out of 120 | elapsed: 12.6min finished\n"
     ]
    },
    {
     "data": {
      "text/plain": [
       "GridSearchCV(cv=10, estimator=RandomForestClassifier(random_state=42),\n",
       "             n_jobs=-2,\n",
       "             param_grid={'bootstrap': [False], 'max_depth': [None],\n",
       "                         'max_features': ['sqrt'], 'min_samples_leaf': [3, 4],\n",
       "                         'min_samples_split': [4, 6],\n",
       "                         'n_estimators': [200, 250, 300]},\n",
       "             verbose=2)"
      ]
     },
     "execution_count": 98,
     "metadata": {},
     "output_type": "execute_result"
    }
   ],
   "source": [
    "grid_search2 = GridSearchCV(estimator = RF_cls, param_grid = param_grid2, \n",
    "                          cv = 10, n_jobs = -2, verbose = 2)\n",
    "\n",
    "grid_search2.fit(X_train_resample, y_train_resample)"
   ]
  },
  {
   "cell_type": "code",
   "execution_count": 99,
   "metadata": {},
   "outputs": [
    {
     "data": {
      "text/plain": [
       "RandomForestClassifier(bootstrap=False, max_features='sqrt', min_samples_leaf=3,\n",
       "                       min_samples_split=4, n_estimators=300, random_state=42)"
      ]
     },
     "execution_count": 99,
     "metadata": {},
     "output_type": "execute_result"
    }
   ],
   "source": [
    "grid_search2.best_estimator_"
   ]
  },
  {
   "cell_type": "code",
   "execution_count": 100,
   "metadata": {},
   "outputs": [
    {
     "data": {
      "text/plain": [
       "0.7858225665274906"
      ]
     },
     "execution_count": 100,
     "metadata": {},
     "output_type": "execute_result"
    }
   ],
   "source": [
    "grid_search2.best_score_"
   ]
  },
  {
   "cell_type": "markdown",
   "metadata": {},
   "source": [
    "This also decreased our score. Instead of increasing values for min_samples_leaf and min_samples_split, we'll bring them down in the next gridsearch.\n",
    "\n",
    "#### 3rd GridSearchCV"
   ]
  },
  {
   "cell_type": "code",
   "execution_count": 101,
   "metadata": {},
   "outputs": [],
   "source": [
    "param_grid3 = {'bootstrap': [False],\n",
    "              'max_depth': [None], \n",
    "              'max_features': ['sqrt'], \n",
    "              'min_samples_leaf': [1, 2], \n",
    "              'min_samples_split': [2, 3], \n",
    "              'n_estimators': [250, 300, 400]}"
   ]
  },
  {
   "cell_type": "code",
   "execution_count": 102,
   "metadata": {
    "scrolled": true
   },
   "outputs": [
    {
     "name": "stdout",
     "output_type": "stream",
     "text": [
      "Fitting 10 folds for each of 12 candidates, totalling 120 fits\n"
     ]
    },
    {
     "name": "stderr",
     "output_type": "stream",
     "text": [
      "[Parallel(n_jobs=-2)]: Using backend LokyBackend with 11 concurrent workers.\n",
      "[Parallel(n_jobs=-2)]: Done  19 tasks      | elapsed: 19.3min\n",
      "[Parallel(n_jobs=-2)]: Done 120 out of 120 | elapsed: 69.0min finished\n"
     ]
    },
    {
     "data": {
      "text/plain": [
       "GridSearchCV(cv=10, estimator=RandomForestClassifier(random_state=42),\n",
       "             n_jobs=-2,\n",
       "             param_grid={'bootstrap': [False], 'max_depth': [None],\n",
       "                         'max_features': ['sqrt'], 'min_samples_leaf': [1, 2],\n",
       "                         'min_samples_split': [2, 3],\n",
       "                         'n_estimators': [250, 300, 400]},\n",
       "             verbose=2)"
      ]
     },
     "execution_count": 102,
     "metadata": {},
     "output_type": "execute_result"
    }
   ],
   "source": [
    "grid_search3 = GridSearchCV(estimator = RF_cls, param_grid = param_grid3, \n",
    "                          cv = 10, n_jobs = -2, verbose = 2)\n",
    "\n",
    "grid_search3.fit(X_train_resample, y_train_resample)"
   ]
  },
  {
   "cell_type": "code",
   "execution_count": 103,
   "metadata": {},
   "outputs": [
    {
     "data": {
      "text/plain": [
       "RandomForestClassifier(bootstrap=False, max_features='sqrt', n_estimators=400,\n",
       "                       random_state=42)"
      ]
     },
     "execution_count": 103,
     "metadata": {},
     "output_type": "execute_result"
    }
   ],
   "source": [
    "grid_search3.best_estimator_"
   ]
  },
  {
   "cell_type": "code",
   "execution_count": 104,
   "metadata": {},
   "outputs": [
    {
     "data": {
      "text/plain": [
       "0.8427240578502302"
      ]
     },
     "execution_count": 104,
     "metadata": {},
     "output_type": "execute_result"
    }
   ],
   "source": [
    "grid_search3.best_score_"
   ]
  },
  {
   "cell_type": "code",
   "execution_count": 105,
   "metadata": {},
   "outputs": [
    {
     "data": {
      "text/plain": [
       "{'bootstrap': False,\n",
       " 'max_depth': None,\n",
       " 'max_features': 'sqrt',\n",
       " 'min_samples_leaf': 1,\n",
       " 'min_samples_split': 2,\n",
       " 'n_estimators': 400}"
      ]
     },
     "execution_count": 105,
     "metadata": {},
     "output_type": "execute_result"
    }
   ],
   "source": [
    "grid_search3.best_params_"
   ]
  },
  {
   "cell_type": "markdown",
   "metadata": {},
   "source": [
    "This score is stronger than the first two gridsearches. Let's continue investigating.\n",
    "\n",
    "#### 4th GridSearchCV"
   ]
  },
  {
   "cell_type": "markdown",
   "metadata": {},
   "source": [
    "All other grid searches suggested the higher n_estimators as the best parameter. As such, we'll increase a 100 more from the last one (400 to 500), and one of 1000 estimators"
   ]
  },
  {
   "cell_type": "code",
   "execution_count": 106,
   "metadata": {},
   "outputs": [],
   "source": [
    "param_grid4 = {'bootstrap': [False],\n",
    "              'max_depth': [None], \n",
    "              'max_features': ['sqrt'], \n",
    "              'min_samples_leaf': [1], \n",
    "              'min_samples_split': [1, 2], \n",
    "              'n_estimators': [500, 1000]}"
   ]
  },
  {
   "cell_type": "code",
   "execution_count": 107,
   "metadata": {},
   "outputs": [
    {
     "name": "stdout",
     "output_type": "stream",
     "text": [
      "Fitting 10 folds for each of 4 candidates, totalling 40 fits\n"
     ]
    },
    {
     "name": "stderr",
     "output_type": "stream",
     "text": [
      "[Parallel(n_jobs=-2)]: Using backend LokyBackend with 11 concurrent workers.\n",
      "[Parallel(n_jobs=-2)]: Done  19 tasks      | elapsed:    4.4s\n",
      "[Parallel(n_jobs=-2)]: Done  40 out of  40 | elapsed: 49.9min remaining:    0.0s\n",
      "[Parallel(n_jobs=-2)]: Done  40 out of  40 | elapsed: 49.9min finished\n"
     ]
    },
    {
     "data": {
      "text/plain": [
       "GridSearchCV(cv=10, estimator=RandomForestClassifier(random_state=42),\n",
       "             n_jobs=-2,\n",
       "             param_grid={'bootstrap': [False], 'max_depth': [None],\n",
       "                         'max_features': ['sqrt'], 'min_samples_leaf': [1],\n",
       "                         'min_samples_split': [1, 2],\n",
       "                         'n_estimators': [500, 1000]},\n",
       "             return_train_score=True, verbose=2)"
      ]
     },
     "execution_count": 107,
     "metadata": {},
     "output_type": "execute_result"
    }
   ],
   "source": [
    "grid_search4 = GridSearchCV(estimator = RF_cls, param_grid = param_grid4, \n",
    "                          cv = 10, n_jobs = -2, verbose = 2, return_train_score=True)\n",
    "\n",
    "grid_search4.fit(X_train_resample, y_train_resample)"
   ]
  },
  {
   "cell_type": "code",
   "execution_count": 108,
   "metadata": {},
   "outputs": [
    {
     "data": {
      "text/plain": [
       "0.842627490906643"
      ]
     },
     "execution_count": 108,
     "metadata": {},
     "output_type": "execute_result"
    }
   ],
   "source": [
    "grid_search4.best_score_"
   ]
  },
  {
   "cell_type": "code",
   "execution_count": 109,
   "metadata": {},
   "outputs": [
    {
     "data": {
      "text/plain": [
       "RandomForestClassifier(bootstrap=False, max_features='sqrt', n_estimators=500,\n",
       "                       random_state=42)"
      ]
     },
     "execution_count": 109,
     "metadata": {},
     "output_type": "execute_result"
    }
   ],
   "source": [
    "grid_search4.best_estimator_"
   ]
  },
  {
   "cell_type": "code",
   "execution_count": 110,
   "metadata": {},
   "outputs": [
    {
     "data": {
      "text/plain": [
       "{'bootstrap': False,\n",
       " 'max_depth': None,\n",
       " 'max_features': 'sqrt',\n",
       " 'min_samples_leaf': 1,\n",
       " 'min_samples_split': 2,\n",
       " 'n_estimators': 500}"
      ]
     },
     "execution_count": 110,
     "metadata": {},
     "output_type": "execute_result"
    }
   ],
   "source": [
    "grid_search4.best_params_"
   ]
  },
  {
   "cell_type": "markdown",
   "metadata": {},
   "source": [
    "The model picked 500 over 1000 in the n_estimators parameter. We'll perform another gridsearch using values between 400 and 700. If 700 is picked, we'll try values between 700 and 1000.\n",
    "\n",
    "#### 5th GridSearchCV"
   ]
  },
  {
   "cell_type": "code",
   "execution_count": 111,
   "metadata": {},
   "outputs": [],
   "source": [
    "param_grid5 = {'bootstrap': [False],\n",
    "              'max_depth': [None], \n",
    "              'max_features': ['sqrt'], \n",
    "              'min_samples_leaf': [1], \n",
    "              'min_samples_split': [1, 2], \n",
    "              'n_estimators': [400, 500, 600, 700]}"
   ]
  },
  {
   "cell_type": "code",
   "execution_count": 112,
   "metadata": {},
   "outputs": [
    {
     "name": "stdout",
     "output_type": "stream",
     "text": [
      "Fitting 10 folds for each of 8 candidates, totalling 80 fits\n"
     ]
    },
    {
     "name": "stderr",
     "output_type": "stream",
     "text": [
      "[Parallel(n_jobs=-2)]: Using backend LokyBackend with 11 concurrent workers.\n",
      "[Parallel(n_jobs=-2)]: Done  19 tasks      | elapsed:    4.2s\n",
      "[Parallel(n_jobs=-2)]: Done  80 out of  80 | elapsed: 71.8min finished\n"
     ]
    },
    {
     "data": {
      "text/plain": [
       "GridSearchCV(cv=10, estimator=RandomForestClassifier(random_state=42),\n",
       "             n_jobs=-2,\n",
       "             param_grid={'bootstrap': [False], 'max_depth': [None],\n",
       "                         'max_features': ['sqrt'], 'min_samples_leaf': [1],\n",
       "                         'min_samples_split': [1, 2],\n",
       "                         'n_estimators': [400, 500, 600, 700]},\n",
       "             return_train_score=True, verbose=2)"
      ]
     },
     "execution_count": 112,
     "metadata": {},
     "output_type": "execute_result"
    }
   ],
   "source": [
    "grid_search5 = GridSearchCV(estimator = RF_cls, param_grid = param_grid5, \n",
    "                          cv = 10, n_jobs = -2, verbose = 2, return_train_score=True)\n",
    "\n",
    "grid_search5.fit(X_train_resample, y_train_resample)"
   ]
  },
  {
   "cell_type": "code",
   "execution_count": 113,
   "metadata": {},
   "outputs": [
    {
     "data": {
      "text/plain": [
       "0.842903423385059"
      ]
     },
     "execution_count": 113,
     "metadata": {},
     "output_type": "execute_result"
    }
   ],
   "source": [
    "grid_search5.best_score_"
   ]
  },
  {
   "cell_type": "code",
   "execution_count": 114,
   "metadata": {},
   "outputs": [
    {
     "data": {
      "text/plain": [
       "RandomForestClassifier(bootstrap=False, max_features='sqrt', n_estimators=600,\n",
       "                       random_state=42)"
      ]
     },
     "execution_count": 114,
     "metadata": {},
     "output_type": "execute_result"
    }
   ],
   "source": [
    "grid_search5.best_estimator_"
   ]
  },
  {
   "cell_type": "code",
   "execution_count": 115,
   "metadata": {},
   "outputs": [
    {
     "data": {
      "text/plain": [
       "{'bootstrap': False,\n",
       " 'max_depth': None,\n",
       " 'max_features': 'sqrt',\n",
       " 'min_samples_leaf': 1,\n",
       " 'min_samples_split': 2,\n",
       " 'n_estimators': 600}"
      ]
     },
     "execution_count": 115,
     "metadata": {},
     "output_type": "execute_result"
    }
   ],
   "source": [
    "grid_search5.best_params_"
   ]
  },
  {
   "cell_type": "markdown",
   "metadata": {},
   "source": [
    "We'll run another gridsearch with values close to 600 in n_estimators\n",
    "\n",
    "\n",
    "#### 6th GridSearchCV"
   ]
  },
  {
   "cell_type": "code",
   "execution_count": 116,
   "metadata": {},
   "outputs": [],
   "source": [
    "param_grid6 = {'bootstrap': [False],\n",
    "              'max_depth': [None], \n",
    "              'max_features': ['sqrt'], \n",
    "              'min_samples_leaf': [1], \n",
    "              'min_samples_split': [2], \n",
    "              'n_estimators': [550, 600, 650]}"
   ]
  },
  {
   "cell_type": "code",
   "execution_count": 117,
   "metadata": {},
   "outputs": [
    {
     "name": "stdout",
     "output_type": "stream",
     "text": [
      "Fitting 10 folds for each of 3 candidates, totalling 30 fits\n"
     ]
    },
    {
     "name": "stderr",
     "output_type": "stream",
     "text": [
      "[Parallel(n_jobs=-2)]: Using backend LokyBackend with 11 concurrent workers.\n",
      "[Parallel(n_jobs=-2)]: Done  25 out of  30 | elapsed: 58.1min remaining: 11.6min\n",
      "[Parallel(n_jobs=-2)]: Done  30 out of  30 | elapsed: 58.8min finished\n"
     ]
    },
    {
     "data": {
      "text/plain": [
       "GridSearchCV(cv=10, estimator=RandomForestClassifier(random_state=42),\n",
       "             n_jobs=-2,\n",
       "             param_grid={'bootstrap': [False], 'max_depth': [None],\n",
       "                         'max_features': ['sqrt'], 'min_samples_leaf': [1],\n",
       "                         'min_samples_split': [2],\n",
       "                         'n_estimators': [550, 600, 650]},\n",
       "             return_train_score=True, verbose=2)"
      ]
     },
     "execution_count": 117,
     "metadata": {},
     "output_type": "execute_result"
    }
   ],
   "source": [
    "grid_search6 = GridSearchCV(estimator = RF_cls, param_grid = param_grid6, \n",
    "                          cv = 10, n_jobs = -2, verbose = 2, return_train_score=True)\n",
    "\n",
    "grid_search6.fit(X_train_resample, y_train_resample)"
   ]
  },
  {
   "cell_type": "code",
   "execution_count": 118,
   "metadata": {},
   "outputs": [
    {
     "data": {
      "text/plain": [
       "0.8429310133964242"
      ]
     },
     "execution_count": 118,
     "metadata": {},
     "output_type": "execute_result"
    }
   ],
   "source": [
    "grid_search6.best_score_"
   ]
  },
  {
   "cell_type": "code",
   "execution_count": 119,
   "metadata": {},
   "outputs": [
    {
     "data": {
      "text/plain": [
       "RandomForestClassifier(bootstrap=False, max_features='sqrt', n_estimators=650,\n",
       "                       random_state=42)"
      ]
     },
     "execution_count": 119,
     "metadata": {},
     "output_type": "execute_result"
    }
   ],
   "source": [
    "grid_search6.best_estimator_"
   ]
  },
  {
   "cell_type": "code",
   "execution_count": 120,
   "metadata": {},
   "outputs": [
    {
     "data": {
      "text/plain": [
       "{'bootstrap': False,\n",
       " 'max_depth': None,\n",
       " 'max_features': 'sqrt',\n",
       " 'min_samples_leaf': 1,\n",
       " 'min_samples_split': 2,\n",
       " 'n_estimators': 650}"
      ]
     },
     "execution_count": 120,
     "metadata": {},
     "output_type": "execute_result"
    }
   ],
   "source": [
    "grid_search6.best_params_"
   ]
  },
  {
   "cell_type": "code",
   "execution_count": 121,
   "metadata": {},
   "outputs": [
    {
     "data": {
      "text/plain": [
       "array([0.84277925, 0.84290342, 0.84293101])"
      ]
     },
     "execution_count": 121,
     "metadata": {},
     "output_type": "execute_result"
    }
   ],
   "source": [
    "grid_search6.cv_results_['mean_test_score']"
   ]
  },
  {
   "cell_type": "markdown",
   "metadata": {},
   "source": [
    "We'll try addressing the overfitting and run a search with max_depth.\n",
    "\n",
    "#### 7th GridSearchCV"
   ]
  },
  {
   "cell_type": "code",
   "execution_count": 122,
   "metadata": {},
   "outputs": [],
   "source": [
    "param_grid7 = {'bootstrap': [False],\n",
    "              'max_depth': [5, 15], \n",
    "              'max_features': ['sqrt'], \n",
    "              'min_samples_leaf': [1], \n",
    "              'min_samples_split': [2], \n",
    "              'n_estimators': [650]}"
   ]
  },
  {
   "cell_type": "code",
   "execution_count": 123,
   "metadata": {},
   "outputs": [
    {
     "name": "stdout",
     "output_type": "stream",
     "text": [
      "Fitting 10 folds for each of 2 candidates, totalling 20 fits\n"
     ]
    },
    {
     "name": "stderr",
     "output_type": "stream",
     "text": [
      "[Parallel(n_jobs=-2)]: Using backend LokyBackend with 11 concurrent workers.\n",
      "[Parallel(n_jobs=-2)]: Done  10 out of  20 | elapsed:   26.7s remaining:   26.7s\n",
      "[Parallel(n_jobs=-2)]: Done  20 out of  20 | elapsed:  1.5min finished\n"
     ]
    },
    {
     "data": {
      "text/plain": [
       "GridSearchCV(cv=10, estimator=RandomForestClassifier(random_state=42),\n",
       "             n_jobs=-2,\n",
       "             param_grid={'bootstrap': [False], 'max_depth': [5, 15],\n",
       "                         'max_features': ['sqrt'], 'min_samples_leaf': [1],\n",
       "                         'min_samples_split': [2], 'n_estimators': [650]},\n",
       "             verbose=2)"
      ]
     },
     "execution_count": 123,
     "metadata": {},
     "output_type": "execute_result"
    }
   ],
   "source": [
    "grid_search7 = GridSearchCV(estimator = RF_cls, param_grid = param_grid7, \n",
    "                          cv = 10, n_jobs = -2, verbose = 2)\n",
    "\n",
    "grid_search7.fit(X_train_resample, y_train_resample)"
   ]
  },
  {
   "cell_type": "code",
   "execution_count": 124,
   "metadata": {},
   "outputs": [
    {
     "data": {
      "text/plain": [
       "0.6826307799284229"
      ]
     },
     "execution_count": 124,
     "metadata": {},
     "output_type": "execute_result"
    }
   ],
   "source": [
    "grid_search7.best_score_"
   ]
  },
  {
   "cell_type": "code",
   "execution_count": 125,
   "metadata": {},
   "outputs": [
    {
     "data": {
      "text/plain": [
       "RandomForestClassifier(bootstrap=False, max_depth=15, max_features='sqrt',\n",
       "                       n_estimators=650, random_state=42)"
      ]
     },
     "execution_count": 125,
     "metadata": {},
     "output_type": "execute_result"
    }
   ],
   "source": [
    "grid_search7.best_estimator_"
   ]
  },
  {
   "cell_type": "code",
   "execution_count": 126,
   "metadata": {
    "scrolled": true
   },
   "outputs": [
    {
     "data": {
      "text/plain": [
       "{'bootstrap': False,\n",
       " 'max_depth': 15,\n",
       " 'max_features': 'sqrt',\n",
       " 'min_samples_leaf': 1,\n",
       " 'min_samples_split': 2,\n",
       " 'n_estimators': 650}"
      ]
     },
     "execution_count": 126,
     "metadata": {},
     "output_type": "execute_result"
    }
   ],
   "source": [
    "grid_search7.best_params_"
   ]
  },
  {
   "cell_type": "markdown",
   "metadata": {},
   "source": [
    "Alas, this was not helpful."
   ]
  },
  {
   "cell_type": "markdown",
   "metadata": {},
   "source": [
    "#### 8th GridSearchCV"
   ]
  },
  {
   "cell_type": "code",
   "execution_count": 127,
   "metadata": {},
   "outputs": [],
   "source": [
    "param_grid8 = {'bootstrap': [False], \n",
    "              'min_samples_leaf': [1], \n",
    "              'min_samples_split': [2], \n",
    "              'n_estimators': [650], \n",
    "               'max_features': [\"log2\"]\n",
    "              }"
   ]
  },
  {
   "cell_type": "code",
   "execution_count": 128,
   "metadata": {
    "scrolled": true
   },
   "outputs": [
    {
     "name": "stdout",
     "output_type": "stream",
     "text": [
      "Fitting 10 folds for each of 1 candidates, totalling 10 fits\n"
     ]
    },
    {
     "name": "stderr",
     "output_type": "stream",
     "text": [
      "[Parallel(n_jobs=-2)]: Using backend LokyBackend with 11 concurrent workers.\n",
      "[Parallel(n_jobs=-2)]: Done   7 out of  10 | elapsed: 25.2min remaining: 10.8min\n",
      "[Parallel(n_jobs=-2)]: Done  10 out of  10 | elapsed: 25.7min finished\n"
     ]
    },
    {
     "data": {
      "text/plain": [
       "GridSearchCV(cv=10, estimator=RandomForestClassifier(random_state=42),\n",
       "             n_jobs=-2,\n",
       "             param_grid={'bootstrap': [False], 'max_features': ['log2'],\n",
       "                         'min_samples_leaf': [1], 'min_samples_split': [2],\n",
       "                         'n_estimators': [650]},\n",
       "             verbose=2)"
      ]
     },
     "execution_count": 128,
     "metadata": {},
     "output_type": "execute_result"
    }
   ],
   "source": [
    "grid_search8 = GridSearchCV(estimator = RF_cls, param_grid = param_grid8, \n",
    "                          cv = 10, n_jobs = -2, verbose = 2)\n",
    "\n",
    "grid_search8.fit(X_train_resample, y_train_resample)"
   ]
  },
  {
   "cell_type": "code",
   "execution_count": 129,
   "metadata": {},
   "outputs": [
    {
     "data": {
      "text/plain": [
       "nan"
      ]
     },
     "execution_count": 129,
     "metadata": {},
     "output_type": "execute_result"
    }
   ],
   "source": [
    "grid_search8.best_score_"
   ]
  },
  {
   "cell_type": "code",
   "execution_count": 130,
   "metadata": {
    "scrolled": true
   },
   "outputs": [
    {
     "data": {
      "text/plain": [
       "{'bootstrap': False,\n",
       " 'max_features': 'log2',\n",
       " 'min_samples_leaf': 1,\n",
       " 'min_samples_split': 2,\n",
       " 'n_estimators': 650}"
      ]
     },
     "execution_count": 130,
     "metadata": {},
     "output_type": "execute_result"
    }
   ],
   "source": [
    "grid_search8.best_params_"
   ]
  },
  {
   "cell_type": "markdown",
   "metadata": {},
   "source": [
    "This gave a slight improvement to the score over our previous models. As this is the best we've done, we'll instatiate and fit a random forest model with these hyperparameters."
   ]
  },
  {
   "cell_type": "code",
   "execution_count": 131,
   "metadata": {},
   "outputs": [
    {
     "data": {
      "text/plain": [
       "RandomForestClassifier(bootstrap=False, max_features='log2', n_estimators=650,\n",
       "                       n_jobs=-2, random_state=42)"
      ]
     },
     "execution_count": 131,
     "metadata": {},
     "output_type": "execute_result"
    }
   ],
   "source": [
    "RF_cls8 = RandomForestClassifier(bootstrap=False, max_features='log2', n_estimators=650, min_samples_leaf= 1, \n",
    "                                 min_samples_split = 2,\n",
    "                                 random_state=42, n_jobs=-2)\n",
    "\n",
    "RF_cls8.fit(X_train_resample, y_train_resample)"
   ]
  },
  {
   "cell_type": "code",
   "execution_count": 132,
   "metadata": {},
   "outputs": [],
   "source": [
    "RF_cv8 = cross_validate(estimator=RF_cls8, \n",
    "                        X=X_train_resample, \n",
    "                        y=y_train_resample, \n",
    "                        cv=10, \n",
    "                        return_train_score=True, \n",
    "                        n_jobs=-2)"
   ]
  },
  {
   "cell_type": "code",
   "execution_count": 133,
   "metadata": {},
   "outputs": [
    {
     "data": {
      "text/plain": [
       "nan"
      ]
     },
     "execution_count": 133,
     "metadata": {},
     "output_type": "execute_result"
    }
   ],
   "source": [
    "RF_cv8['train_score'].mean()"
   ]
  },
  {
   "cell_type": "code",
   "execution_count": 134,
   "metadata": {},
   "outputs": [
    {
     "data": {
      "text/plain": [
       "nan"
      ]
     },
     "execution_count": 134,
     "metadata": {},
     "output_type": "execute_result"
    }
   ],
   "source": [
    "RF_cv8['test_score'].mean()"
   ]
  },
  {
   "cell_type": "markdown",
   "metadata": {},
   "source": [
    "## Best Model \n"
   ]
  },
  {
   "cell_type": "code",
   "execution_count": 135,
   "metadata": {},
   "outputs": [],
   "source": [
    "best_model = grid_search8"
   ]
  },
  {
   "cell_type": "code",
   "execution_count": 136,
   "metadata": {},
   "outputs": [
    {
     "data": {
      "text/plain": [
       "nan"
      ]
     },
     "execution_count": 136,
     "metadata": {},
     "output_type": "execute_result"
    }
   ],
   "source": [
    "best_model.best_score_"
   ]
  },
  {
   "cell_type": "code",
   "execution_count": 137,
   "metadata": {},
   "outputs": [
    {
     "data": {
      "text/plain": [
       "{'bootstrap': False,\n",
       " 'max_features': 'log2',\n",
       " 'min_samples_leaf': 1,\n",
       " 'min_samples_split': 2,\n",
       " 'n_estimators': 650}"
      ]
     },
     "execution_count": 137,
     "metadata": {},
     "output_type": "execute_result"
    }
   ],
   "source": [
    "best_model.best_params_"
   ]
  },
  {
   "cell_type": "code",
   "execution_count": 138,
   "metadata": {},
   "outputs": [
    {
     "name": "stdout",
     "output_type": "stream",
     "text": [
      "Cross Validation mean train score:nan\n",
      "Cross Validation mean Test score: nan\n"
     ]
    }
   ],
   "source": [
    "b_train = RF_cv8['train_score'].mean()\n",
    "b_test = RF_cv8['test_score'].mean()\n",
    "\n",
    "print(f'Cross Validation mean train score:{b_train}')\n",
    "print(f'Cross Validation mean Test score: {b_test}')"
   ]
  },
  {
   "cell_type": "code",
   "execution_count": 139,
   "metadata": {},
   "outputs": [
    {
     "data": {
      "text/html": [
       "<div>\n",
       "<style scoped>\n",
       "    .dataframe tbody tr th:only-of-type {\n",
       "        vertical-align: middle;\n",
       "    }\n",
       "\n",
       "    .dataframe tbody tr th {\n",
       "        vertical-align: top;\n",
       "    }\n",
       "\n",
       "    .dataframe thead th {\n",
       "        text-align: right;\n",
       "    }\n",
       "</style>\n",
       "<table border=\"1\" class=\"dataframe\">\n",
       "  <thead>\n",
       "    <tr style=\"text-align: right;\">\n",
       "      <th></th>\n",
       "      <th>Class</th>\n",
       "      <th>Enconded class</th>\n",
       "    </tr>\n",
       "  </thead>\n",
       "  <tbody>\n",
       "    <tr>\n",
       "      <th>0</th>\n",
       "      <td>functional</td>\n",
       "      <td>0</td>\n",
       "    </tr>\n",
       "    <tr>\n",
       "      <th>1</th>\n",
       "      <td>functional needs repair</td>\n",
       "      <td>1</td>\n",
       "    </tr>\n",
       "    <tr>\n",
       "      <th>2</th>\n",
       "      <td>non functional</td>\n",
       "      <td>2</td>\n",
       "    </tr>\n",
       "  </tbody>\n",
       "</table>\n",
       "</div>"
      ],
      "text/plain": [
       "                     Class  Enconded class\n",
       "0               functional               0\n",
       "1  functional needs repair               1\n",
       "2           non functional               2"
      ]
     },
     "execution_count": 139,
     "metadata": {},
     "output_type": "execute_result"
    }
   ],
   "source": [
    "name = {\n",
    "    'Class' : ['functional', 'functional needs repair', 'non functional'],\n",
    "    'Enconded class' : [0, 1, 2]}\n",
    "class_nm = pd.DataFrame(name)\n",
    "class_nm"
   ]
  },
  {
   "cell_type": "markdown",
   "metadata": {},
   "source": [
    "## Evaluation\n",
    "\n",
    "Our final model has an accuracy of roughly 85%; we chose to focus on accuracy becuase we were equally concerned in identfying all three classes of wells (functional, non-functional, and needing repairs). Our final model greatly outperformed the baseline model (54% compared to 85%), giving great insight into what features are shared by successful wells throughout Tanzania. We are very confident this will help the Tanzania Water Fund to focus on strategies that will make their work as successful as possible."
   ]
  },
  {
   "cell_type": "markdown",
   "metadata": {},
   "source": [
    "### Confusion Matrices"
   ]
  },
  {
   "cell_type": "code",
   "execution_count": 141,
   "metadata": {},
   "outputs": [
    {
     "data": {
      "image/png": "[encoded data removed]",
      "text/plain": [
       "<Figure size 432x288 with 2 Axes>"
      ]
     },
     "metadata": {
      "needs_background": "light"
     },
     "output_type": "display_data"
    }
   ],
   "source": [
    "cmx = plot_confusion_matrix(best_model, X_train_resample, y_train_resample,\n",
    "                            display_labels=encoder.classes_,\n",
    "                            xticks_rotation=70)\n",
    "cmx.ax_.set_title('Matrix without Normalization');"
   ]
  },
  {
   "cell_type": "code",
   "execution_count": 143,
   "metadata": {
    "scrolled": true
   },
   "outputs": [
    {
     "data": {
      "image/png": "[encoded data removed]",
      "text/plain": [
       "<Figure size 432x288 with 2 Axes>"
      ]
     },
     "metadata": {
      "needs_background": "light"
     },
     "output_type": "display_data"
    }
   ],
   "source": [
    "cmx2 = plot_confusion_matrix(best_model, X_train_resample, y_train_resample,\n",
    "                            display_labels=encoder.classes_,\n",
    "                                   normalize='true',\n",
    "                                   xticks_rotation=70)\n",
    "cmx2.ax_.set_title('Normalized');\n",
    "#plt.savefig(\"./Confusion-matrix-not-transparent.png\", bbox_inches=\"tight\", transparent=False, dpi=600);"
   ]
  },
  {
   "cell_type": "markdown",
   "metadata": {},
   "source": [
    "## Feature importance"
   ]
  },
  {
   "cell_type": "code",
   "execution_count": 144,
   "metadata": {},
   "outputs": [],
   "source": [
    "feature_importances = best_model.best_estimator_.feature_importances_\n",
    "feature_names = ohe.get_feature_names().tolist()\n",
    "Feat_names=['Quantity - Dry', 'Quantity - Enough', 'Extraction type - Other', 'Waterpoint type - Other',\n",
    "   'Quantity - Insufficient', 'Payment - Never pay', 'Payment - Per bucket', 'Extraction type - Gravity',\n",
    "  'Waterpoint type - Communal standpipe', 'Payment - Monthly']"
   ]
  },
  {
   "cell_type": "code",
   "execution_count": 145,
   "metadata": {},
   "outputs": [],
   "source": [
    "def plot_feature_importance(importance,names,model_type, n=10):\n",
    "\n",
    "#Create arrays from feature importance and feature names\n",
    "    feature_importance = np.array(importance)\n",
    "    feature_names = np.array(names)\n",
    "\n",
    "#Create a DataFrame using a Dictionary\n",
    "    data={'feature_names':feature_names,'feature_importance':feature_importance}\n",
    "    fi_df = pd.DataFrame(data)\n",
    "\n",
    "#Sort the DataFrame in order decreasing feature importance\n",
    "    fi_df.sort_values(by=['feature_importance'], ascending=False,inplace=True)\n",
    "    fi_df=fi_df.head(n)\n",
    "    \n",
    "    #Define size of bar plot\n",
    "    plt.figure(figsize=(10,8))\n",
    "#Plot Searborn bar chart\n",
    "    sns.barplot(x=fi_df['feature_importance'], y=Feat_names, palette=\"ch:start=.2,rot=-.3_r\")\n",
    "\n",
    "\n",
    "    plt.title(model_type + ' FEATURE IMPORTANCE')\n",
    "    plt.ylabel('FEATURE NAMES')\n",
    "    \n",
    "    "
   ]
  },
  {
   "cell_type": "code",
   "execution_count": 146,
   "metadata": {
    "scrolled": true
   },
   "outputs": [
    {
     "data": {
      "image/png": "[encoded data removed]",
      "text/plain": [
       "<Figure size 720x576 with 1 Axes>"
      ]
     },
     "metadata": {
      "needs_background": "light"
     },
     "output_type": "display_data"
    }
   ],
   "source": [
    "plot_feature_importance(feature_importances,feature_names,'MODEL')\n",
    "#plt.savefig(\"./FEATURE_IMPORTANCE-not-transparent.png\", bbox_inches=\"tight\", transparent=False, dpi=600);"
   ]
  },
  {
   "cell_type": "markdown",
   "metadata": {},
   "source": [
    "## Feature Importance Visualizations"
   ]
  },
  {
   "cell_type": "code",
   "execution_count": 149,
   "metadata": {},
   "outputs": [
    {
     "data": {
      "text/plain": [
       "enough          33186\n",
       "insufficient    15129\n",
       "dry              6246\n",
       "seasonal         4050\n",
       "unknown           789\n",
       "Name: quantity, dtype: int64"
      ]
     },
     "execution_count": 149,
     "metadata": {},
     "output_type": "execute_result"
    }
   ],
   "source": [
    "df[\"quantity\"].value_counts()"
   ]
  },
  {
   "cell_type": "code",
   "execution_count": 150,
   "metadata": {
    "scrolled": false
   },
   "outputs": [
    {
     "data": {
      "text/plain": [
       "functional                 7916\n",
       "non functional             5763\n",
       "functional needs repair    1450\n",
       "Name: status_group, dtype: int64"
      ]
     },
     "execution_count": 150,
     "metadata": {},
     "output_type": "execute_result"
    }
   ],
   "source": [
    "df.loc[df[\"quantity\"] == \"insufficient\"][\"status_group\"].value_counts()"
   ]
  },
  {
   "cell_type": "code",
   "execution_count": 151,
   "metadata": {},
   "outputs": [],
   "source": [
    "quan_labels = ['enough', 'seasonal', 'insufficient', 'dry', 'unknown']\n",
    "\n",
    "quan_func = []\n",
    "quan_nonfunc = []\n",
    "quan_func_need_repair = []\n",
    "\n",
    "for label in quan_labels:\n",
    "    counts = df.loc[df[\"quantity\"] == label][\"status_group\"].value_counts(normalize=True)\n",
    "    quan_func.append(counts[\"functional\"]*100)\n",
    "    quan_nonfunc.append(counts[\"non functional\"]*100)\n",
    "    quan_func_need_repair.append(counts[\"functional needs repair\"]*100)"
   ]
  },
  {
   "cell_type": "code",
   "execution_count": 152,
   "metadata": {},
   "outputs": [
    {
     "data": {
      "image/png": "[encoded data removed]",
      "text/plain": [
       "<Figure size 432x288 with 1 Axes>"
      ]
     },
     "metadata": {
      "needs_background": "light"
     },
     "output_type": "display_data"
    }
   ],
   "source": [
    "x = np.arange(len(quan_labels))\n",
    "width = 0.25\n",
    "\n",
    "fig, ax = plt.subplots()\n",
    "\n",
    "r1 = np.arange(len(quan_func))\n",
    "r2 = [x + width for x in r1]\n",
    "r3 = [x + width for x in r2]\n",
    "\n",
    "ax.bar(r1, quan_func, width, label='Functional')\n",
    "ax.bar(r2, quan_nonfunc, width, label='Non-Functional')\n",
    "ax.bar(r3, quan_func_need_repair, width, label='Needs Repair')\n",
    "\n",
    "ax.set_ylabel('%')\n",
    "\n",
    "ax.set_title('Functionality of Wells by Water Quantity')\n",
    "ax.set_xlabel('Water Quantity')\n",
    "\n",
    "plt.xticks([r + width for r in range(len(quan_func))], ['Enough', 'Seasonal', 'Insufficient', 'Dry', 'Unknown'])\n",
    "ax.legend();\n",
    "\n",
    "# plt.savefig(\"../Images/quantity.png\", dpi=600, transparent=True);"
   ]
  },
  {
   "cell_type": "code",
   "execution_count": 153,
   "metadata": {},
   "outputs": [
    {
     "data": {
      "text/plain": [
       "gravity                      26780\n",
       "nira/tanira                   8154\n",
       "other                         6430\n",
       "submersible                   4764\n",
       "swn 80                        3670\n",
       "mono                          2865\n",
       "india mark ii                 2400\n",
       "afridev                       1770\n",
       "ksb                           1415\n",
       "other - rope pump              451\n",
       "other - swn 81                 229\n",
       "windmill                       117\n",
       "india mark iii                  98\n",
       "cemo                            90\n",
       "other - play pump               85\n",
       "walimi                          48\n",
       "climax                          32\n",
       "other - mkulima/shinyanga        2\n",
       "Name: extraction_type, dtype: int64"
      ]
     },
     "execution_count": 153,
     "metadata": {},
     "output_type": "execute_result"
    }
   ],
   "source": [
    "df[\"extraction_type\"].value_counts()"
   ]
  },
  {
   "cell_type": "code",
   "execution_count": 154,
   "metadata": {
    "scrolled": false
   },
   "outputs": [
    {
     "data": {
      "text/plain": [
       "functional                 0.599253\n",
       "non functional             0.299888\n",
       "functional needs repair    0.100859\n",
       "Name: status_group, dtype: float64"
      ]
     },
     "execution_count": 154,
     "metadata": {},
     "output_type": "execute_result"
    }
   ],
   "source": [
    "df.loc[df[\"extraction_type\"] == \"gravity\"][\"status_group\"].value_counts(normalize=True)"
   ]
  },
  {
   "cell_type": "code",
   "execution_count": 155,
   "metadata": {},
   "outputs": [],
   "source": [
    "ext_labels = ['gravity', 'nira/tanira', 'submersible', 'swn 80', 'other']\n",
    "\n",
    "ext_func = []\n",
    "ext_nonfunc = []\n",
    "ext_func_need_repair = []\n",
    "\n",
    "for label in ext_labels:\n",
    "    counts = df.loc[df[\"extraction_type\"] == label][\"status_group\"].value_counts(normalize=True)\n",
    "    ext_func.append(counts[\"functional\"]*100)\n",
    "    ext_nonfunc.append(counts[\"non functional\"]*100)\n",
    "    ext_func_need_repair.append(counts[\"functional needs repair\"]*100)"
   ]
  },
  {
   "cell_type": "code",
   "execution_count": 156,
   "metadata": {
    "scrolled": true
   },
   "outputs": [
    {
     "data": {
      "image/png": "[encoded data removed]",
      "text/plain": [
       "<Figure size 432x288 with 1 Axes>"
      ]
     },
     "metadata": {
      "needs_background": "light"
     },
     "output_type": "display_data"
    }
   ],
   "source": [
    "x = np.arange(len(ext_labels))\n",
    "width = 0.25\n",
    "\n",
    "fig, ax = plt.subplots()\n",
    "\n",
    "r1 = np.arange(len(ext_func))\n",
    "r2 = [x + width for x in r1]\n",
    "r3 = [x + width for x in r2]\n",
    "\n",
    "ax.bar(r1, ext_func, width, label='Functional')\n",
    "ax.bar(r2, ext_nonfunc, width, label='Non-Functional')\n",
    "ax.bar(r3, ext_func_need_repair, width, label='Needs Repair')\n",
    "\n",
    "ax.set_ylabel('%')\n",
    "ax.set_title('Functionality of Wells by Extraction Type')\n",
    "ax.set_xlabel('Extraction Type')\n",
    "plt.xticks([r + width for r in range(len(ext_func))], ['Gravity', 'Nira/Tanira', 'Submersible', 'Swn 80', 'Other'])\n",
    "ax.legend();\n",
    "\n",
    "# plt.savefig(\"../Images/extraction_type.png\", dpi=600, transparent=True);"
   ]
  },
  {
   "cell_type": "code",
   "execution_count": 157,
   "metadata": {},
   "outputs": [
    {
     "data": {
      "text/plain": [
       "never pay                25348\n",
       "pay per bucket            8985\n",
       "pay monthly               8300\n",
       "unknown                   8157\n",
       "pay when scheme fails     3914\n",
       "pay annually              3642\n",
       "other                     1054\n",
       "Name: payment, dtype: int64"
      ]
     },
     "execution_count": 157,
     "metadata": {},
     "output_type": "execute_result"
    }
   ],
   "source": [
    "df[\"payment\"].value_counts()"
   ]
  },
  {
   "cell_type": "code",
   "execution_count": 158,
   "metadata": {},
   "outputs": [
    {
     "data": {
      "text/plain": [
       "non functional             0.475856\n",
       "functional                 0.448911\n",
       "functional needs repair    0.075233\n",
       "Name: status_group, dtype: float64"
      ]
     },
     "execution_count": 158,
     "metadata": {},
     "output_type": "execute_result"
    }
   ],
   "source": [
    "df.loc[df[\"payment\"] == \"never pay\"][\"status_group\"].value_counts(normalize=True)"
   ]
  },
  {
   "cell_type": "code",
   "execution_count": 159,
   "metadata": {},
   "outputs": [],
   "source": [
    "pay_labels = ['pay per bucket', 'pay monthly', 'pay when scheme fails', 'never pay', 'unknown']\n",
    "\n",
    "pay_func = []\n",
    "pay_nonfunc = []\n",
    "pay_func_need_repair = []\n",
    "\n",
    "for label in pay_labels:\n",
    "    counts = df.loc[df[\"payment\"] == label][\"status_group\"].value_counts(normalize=True)\n",
    "    pay_func.append(counts[\"functional\"]*100)\n",
    "    pay_nonfunc.append(counts[\"non functional\"]*100)\n",
    "    pay_func_need_repair.append(counts[\"functional needs repair\"]*100)"
   ]
  },
  {
   "cell_type": "code",
   "execution_count": 160,
   "metadata": {
    "scrolled": true
   },
   "outputs": [
    {
     "data": {
      "image/png": "[encoded data removed]",
      "text/plain": [
       "<Figure size 432x288 with 1 Axes>"
      ]
     },
     "metadata": {
      "needs_background": "light"
     },
     "output_type": "display_data"
    }
   ],
   "source": [
    "x = np.arange(len(pay_labels))\n",
    "width = 0.25\n",
    "\n",
    "fig, ax = plt.subplots()\n",
    "\n",
    "r1 = np.arange(len(pay_func))\n",
    "r2 = [x + width for x in r1]\n",
    "r3 = [x + width for x in r2]\n",
    "\n",
    "ax.bar(r1, pay_func, width, label='Functional')\n",
    "ax.bar(r2, pay_nonfunc, width, label='Non-Functional')\n",
    "ax.bar(r3, pay_func_need_repair, width, label='Needs Repair')\n",
    "\n",
    "ax.set_ylabel('%')\n",
    "ax.set_title('Functionality of Wells by Payment')\n",
    "ax.set_xlabel('Payment Type')\n",
    "plt.xticks([r + width for r in range(len(pay_func))], ['PPB', 'PM', 'PWSF', 'Never Pay', 'Unknown'],)\n",
    "ax.legend();\n",
    "\n",
    "# plt.savefig(\"../Images/payment.png\", dpi=600, bbox_inches=\"tight\", transparent=True);"
   ]
  },
  {
   "cell_type": "markdown",
   "metadata": {},
   "source": [
    "## Conclusions\n",
    "\n",
    "Based on our findings, we reccommend that Tanzania focus on continued use of well-established extraction types (gravity, nira/tanira, submersible, and SWN 80), choose waterpoints with an ample water supply when possible, and initiate payment plans for users of future wells. By doing so, we hope these well will remain functional for as long as possible.\n",
    "\n",
    "Our model does not cover some metrics where data was too incomplete or poorly-defined that might also be contributing factors, such as elevation, installers/funders, and management. As these are likely to contribute to the performance of these wells, we would like to perform further analysis on these factors in the future we were not able to address in the time we had. We'd also like to interact with the creators of the dataset in order to define terminology used that we were not able to investigate, such as public_meeting and num_private.\n",
    "\n",
    "In the future, we would also like to investigate the role of seasons and weather in the operation of wells (perhaps based on date of evaluation) and precise location through the provided latitude/longitude coordinates. Provided more time and resources, we would love to dig deeper into this issue and mine more useful information from the source of the data."
   ]
  }
 ],
 "metadata": {
  "kernelspec": {
   "display_name": "Python 3",
   "language": "python",
   "name": "python3"
  },
  "language_info": {
   "codemirror_mode": {
    "name": "ipython",
    "version": 3
   },
   "file_extension": ".py",
   "mimetype": "text/x-python",
   "name": "python",
   "nbconvert_exporter": "python",
   "pygments_lexer": "ipython3",
   "version": "3.8.5"
  }
 },
 "nbformat": 4,
 "nbformat_minor": 4
}
